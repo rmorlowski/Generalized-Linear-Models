{
  "nbformat": 4,
  "nbformat_minor": 0,
  "metadata": {
    "colab": {
      "name": "Auto_Insurance.ipynb",
      "version": "0.3.2",
      "provenance": [],
      "collapsed_sections": [],
      "include_colab_link": true
    },
    "kernelspec": {
      "display_name": "Python 3",
      "language": "python",
      "name": "python3"
    }
  },
  "cells": [
    {
      "cell_type": "markdown",
      "metadata": {
        "id": "view-in-github",
        "colab_type": "text"
      },
      "source": [
        "<a href=\"https://colab.research.google.com/github/rmorlowski/Generalized-Linear-Models/blob/master/Auto_Insurance.ipynb\" target=\"_parent\"><img src=\"https://colab.research.google.com/assets/colab-badge.svg\" alt=\"Open In Colab\"/></a>"
      ]
    },
    {
      "metadata": {
        "id": "3fyQ5jO5cpsj",
        "colab_type": "text"
      },
      "cell_type": "markdown",
      "source": [
        "## Auto Insurance\n",
        "### Predict the probability of a car crash\n",
        "https://www.kaggle.com/c/auto-insurance-411-fall-2018"
      ]
    },
    {
      "metadata": {
        "id": "TCdBg5j4dgS-",
        "colab_type": "text"
      },
      "cell_type": "markdown",
      "source": [
        "The deliverable is to analyze insurance data to predict the probability of a car crash. This will be accomplished through exploratory data analysis and by generating logistic regression models. Different variable selection techniques including but not limited to forward, stepwise, and backward regression will be tested to improve model performance. From these techniques, the best model will be selected by considering goodness-of-fit, complexity, and coefficient behavior. The best model will then be further analyzed to determine if it is an adequate model to predict the likelihood of a car accident or if further analysis or data transformation is necessary."
      ]
    },
    {
      "metadata": {
        "id": "BBB-hImscpsl",
        "colab_type": "text"
      },
      "cell_type": "markdown",
      "source": [
        "train_auto is the insurance training data with 8000+ records.\n",
        "This program creates some new variables runs logistic regression to find new models, merges two files(probability and amount) for test_auto data and gives code for lift chart"
      ]
    },
    {
      "metadata": {
        "id": "MZyOl4C-cpsm",
        "colab_type": "code",
        "colab": {}
      },
      "cell_type": "code",
      "source": [
        "# import packages for this example\n",
        "import pandas as pd      \n",
        "import numpy as np  # arrays and math functions\n",
        "import matplotlib.pyplot as plt  # static plotting\n",
        "import statsmodels.formula.api as smf  # R-like model specification\n",
        "import statsmodels.api as sm\n",
        "import matplotlib.pyplot as plt \n",
        "import pandas_profiling\n",
        "from scipy import stats\n",
        "import seaborn as sns\n",
        " \n",
        "get_ipython().magic(u'matplotlib inline')"
      ],
      "execution_count": 0,
      "outputs": []
    },
    {
      "metadata": {
        "id": "_of7c76Gcpsp",
        "colab_type": "code",
        "colab": {}
      },
      "cell_type": "code",
      "source": [
        "#Set some display options   \n",
        "pd.set_option('display.notebook_repr_html', False) \n",
        "pd.set_option('display.max_columns', 40) \n",
        "pd.set_option('display.max_rows', 10) \n",
        "pd.set_option('display.width', 120)"
      ],
      "execution_count": 0,
      "outputs": []
    },
    {
      "metadata": {
        "id": "VddpLD8Bc-1S",
        "colab_type": "code",
        "colab": {
          "resources": {
            "http://localhost:8080/nbextensions/google.colab/files.js": {
              "data": "Ly8gQ29weXJpZ2h0IDIwMTcgR29vZ2xlIExMQwovLwovLyBMaWNlbnNlZCB1bmRlciB0aGUgQXBhY2hlIExpY2Vuc2UsIFZlcnNpb24gMi4wICh0aGUgIkxpY2Vuc2UiKTsKLy8geW91IG1heSBub3QgdXNlIHRoaXMgZmlsZSBleGNlcHQgaW4gY29tcGxpYW5jZSB3aXRoIHRoZSBMaWNlbnNlLgovLyBZb3UgbWF5IG9idGFpbiBhIGNvcHkgb2YgdGhlIExpY2Vuc2UgYXQKLy8KLy8gICAgICBodHRwOi8vd3d3LmFwYWNoZS5vcmcvbGljZW5zZXMvTElDRU5TRS0yLjAKLy8KLy8gVW5sZXNzIHJlcXVpcmVkIGJ5IGFwcGxpY2FibGUgbGF3IG9yIGFncmVlZCB0byBpbiB3cml0aW5nLCBzb2Z0d2FyZQovLyBkaXN0cmlidXRlZCB1bmRlciB0aGUgTGljZW5zZSBpcyBkaXN0cmlidXRlZCBvbiBhbiAiQVMgSVMiIEJBU0lTLAovLyBXSVRIT1VUIFdBUlJBTlRJRVMgT1IgQ09ORElUSU9OUyBPRiBBTlkgS0lORCwgZWl0aGVyIGV4cHJlc3Mgb3IgaW1wbGllZC4KLy8gU2VlIHRoZSBMaWNlbnNlIGZvciB0aGUgc3BlY2lmaWMgbGFuZ3VhZ2UgZ292ZXJuaW5nIHBlcm1pc3Npb25zIGFuZAovLyBsaW1pdGF0aW9ucyB1bmRlciB0aGUgTGljZW5zZS4KCi8qKgogKiBAZmlsZW92ZXJ2aWV3IEhlbHBlcnMgZm9yIGdvb2dsZS5jb2xhYiBQeXRob24gbW9kdWxlLgogKi8KKGZ1bmN0aW9uKHNjb3BlKSB7CmZ1bmN0aW9uIHNwYW4odGV4dCwgc3R5bGVBdHRyaWJ1dGVzID0ge30pIHsKICBjb25zdCBlbGVtZW50ID0gZG9jdW1lbnQuY3JlYXRlRWxlbWVudCgnc3BhbicpOwogIGVsZW1lbnQudGV4dENvbnRlbnQgPSB0ZXh0OwogIGZvciAoY29uc3Qga2V5IG9mIE9iamVjdC5rZXlzKHN0eWxlQXR0cmlidXRlcykpIHsKICAgIGVsZW1lbnQuc3R5bGVba2V5XSA9IHN0eWxlQXR0cmlidXRlc1trZXldOwogIH0KICByZXR1cm4gZWxlbWVudDsKfQoKLy8gTWF4IG51bWJlciBvZiBieXRlcyB3aGljaCB3aWxsIGJlIHVwbG9hZGVkIGF0IGEgdGltZS4KY29uc3QgTUFYX1BBWUxPQURfU0laRSA9IDEwMCAqIDEwMjQ7Ci8vIE1heCBhbW91bnQgb2YgdGltZSB0byBibG9jayB3YWl0aW5nIGZvciB0aGUgdXNlci4KY29uc3QgRklMRV9DSEFOR0VfVElNRU9VVF9NUyA9IDMwICogMTAwMDsKCmZ1bmN0aW9uIF91cGxvYWRGaWxlcyhpbnB1dElkLCBvdXRwdXRJZCkgewogIGNvbnN0IHN0ZXBzID0gdXBsb2FkRmlsZXNTdGVwKGlucHV0SWQsIG91dHB1dElkKTsKICBjb25zdCBvdXRwdXRFbGVtZW50ID0gZG9jdW1lbnQuZ2V0RWxlbWVudEJ5SWQob3V0cHV0SWQpOwogIC8vIENhY2hlIHN0ZXBzIG9uIHRoZSBvdXRwdXRFbGVtZW50IHRvIG1ha2UgaXQgYXZhaWxhYmxlIGZvciB0aGUgbmV4dCBjYWxsCiAgLy8gdG8gdXBsb2FkRmlsZXNDb250aW51ZSBmcm9tIFB5dGhvbi4KICBvdXRwdXRFbGVtZW50LnN0ZXBzID0gc3RlcHM7CgogIHJldHVybiBfdXBsb2FkRmlsZXNDb250aW51ZShvdXRwdXRJZCk7Cn0KCi8vIFRoaXMgaXMgcm91Z2hseSBhbiBhc3luYyBnZW5lcmF0b3IgKG5vdCBzdXBwb3J0ZWQgaW4gdGhlIGJyb3dzZXIgeWV0KSwKLy8gd2hlcmUgdGhlcmUgYXJlIG11bHRpcGxlIGFzeW5jaHJvbm91cyBzdGVwcyBhbmQgdGhlIFB5dGhvbiBzaWRlIGlzIGdvaW5nCi8vIHRvIHBvbGwgZm9yIGNvbXBsZXRpb24gb2YgZWFjaCBzdGVwLgovLyBUaGlzIHVzZXMgYSBQcm9taXNlIHRvIGJsb2NrIHRoZSBweXRob24gc2lkZSBvbiBjb21wbGV0aW9uIG9mIGVhY2ggc3RlcCwKLy8gdGhlbiBwYXNzZXMgdGhlIHJlc3VsdCBvZiB0aGUgcHJldmlvdXMgc3RlcCBhcyB0aGUgaW5wdXQgdG8gdGhlIG5leHQgc3RlcC4KZnVuY3Rpb24gX3VwbG9hZEZpbGVzQ29udGludWUob3V0cHV0SWQpIHsKICBjb25zdCBvdXRwdXRFbGVtZW50ID0gZG9jdW1lbnQuZ2V0RWxlbWVudEJ5SWQob3V0cHV0SWQpOwogIGNvbnN0IHN0ZXBzID0gb3V0cHV0RWxlbWVudC5zdGVwczsKCiAgY29uc3QgbmV4dCA9IHN0ZXBzLm5leHQob3V0cHV0RWxlbWVudC5sYXN0UHJvbWlzZVZhbHVlKTsKICByZXR1cm4gUHJvbWlzZS5yZXNvbHZlKG5leHQudmFsdWUucHJvbWlzZSkudGhlbigodmFsdWUpID0+IHsKICAgIC8vIENhY2hlIHRoZSBsYXN0IHByb21pc2UgdmFsdWUgdG8gbWFrZSBpdCBhdmFpbGFibGUgdG8gdGhlIG5leHQKICAgIC8vIHN0ZXAgb2YgdGhlIGdlbmVyYXRvci4KICAgIG91dHB1dEVsZW1lbnQubGFzdFByb21pc2VWYWx1ZSA9IHZhbHVlOwogICAgcmV0dXJuIG5leHQudmFsdWUucmVzcG9uc2U7CiAgfSk7Cn0KCi8qKgogKiBHZW5lcmF0b3IgZnVuY3Rpb24gd2hpY2ggaXMgY2FsbGVkIGJldHdlZW4gZWFjaCBhc3luYyBzdGVwIG9mIHRoZSB1cGxvYWQKICogcHJvY2Vzcy4KICogQHBhcmFtIHtzdHJpbmd9IGlucHV0SWQgRWxlbWVudCBJRCBvZiB0aGUgaW5wdXQgZmlsZSBwaWNrZXIgZWxlbWVudC4KICogQHBhcmFtIHtzdHJpbmd9IG91dHB1dElkIEVsZW1lbnQgSUQgb2YgdGhlIG91dHB1dCBkaXNwbGF5LgogKiBAcmV0dXJuIHshSXRlcmFibGU8IU9iamVjdD59IEl0ZXJhYmxlIG9mIG5leHQgc3RlcHMuCiAqLwpmdW5jdGlvbiogdXBsb2FkRmlsZXNTdGVwKGlucHV0SWQsIG91dHB1dElkKSB7CiAgY29uc3QgaW5wdXRFbGVtZW50ID0gZG9jdW1lbnQuZ2V0RWxlbWVudEJ5SWQoaW5wdXRJZCk7CiAgaW5wdXRFbGVtZW50LmRpc2FibGVkID0gZmFsc2U7CgogIGNvbnN0IG91dHB1dEVsZW1lbnQgPSBkb2N1bWVudC5nZXRFbGVtZW50QnlJZChvdXRwdXRJZCk7CiAgb3V0cHV0RWxlbWVudC5pbm5lckhUTUwgPSAnJzsKCiAgY29uc3QgcGlja2VkUHJvbWlzZSA9IG5ldyBQcm9taXNlKChyZXNvbHZlKSA9PiB7CiAgICBpbnB1dEVsZW1lbnQuYWRkRXZlbnRMaXN0ZW5lcignY2hhbmdlJywgKGUpID0+IHsKICAgICAgcmVzb2x2ZShlLnRhcmdldC5maWxlcyk7CiAgICB9KTsKICB9KTsKCiAgY29uc3QgY2FuY2VsID0gZG9jdW1lbnQuY3JlYXRlRWxlbWVudCgnYnV0dG9uJyk7CiAgaW5wdXRFbGVtZW50LnBhcmVudEVsZW1lbnQuYXBwZW5kQ2hpbGQoY2FuY2VsKTsKICBjYW5jZWwudGV4dENvbnRlbnQgPSAnQ2FuY2VsIHVwbG9hZCc7CiAgY29uc3QgY2FuY2VsUHJvbWlzZSA9IG5ldyBQcm9taXNlKChyZXNvbHZlKSA9PiB7CiAgICBjYW5jZWwub25jbGljayA9ICgpID0+IHsKICAgICAgcmVzb2x2ZShudWxsKTsKICAgIH07CiAgfSk7CgogIC8vIENhbmNlbCB1cGxvYWQgaWYgdXNlciBoYXNuJ3QgcGlja2VkIGFueXRoaW5nIGluIHRpbWVvdXQuCiAgY29uc3QgdGltZW91dFByb21pc2UgPSBuZXcgUHJvbWlzZSgocmVzb2x2ZSkgPT4gewogICAgc2V0VGltZW91dCgoKSA9PiB7CiAgICAgIHJlc29sdmUobnVsbCk7CiAgICB9LCBGSUxFX0NIQU5HRV9USU1FT1VUX01TKTsKICB9KTsKCiAgLy8gV2FpdCBmb3IgdGhlIHVzZXIgdG8gcGljayB0aGUgZmlsZXMuCiAgY29uc3QgZmlsZXMgPSB5aWVsZCB7CiAgICBwcm9taXNlOiBQcm9taXNlLnJhY2UoW3BpY2tlZFByb21pc2UsIHRpbWVvdXRQcm9taXNlLCBjYW5jZWxQcm9taXNlXSksCiAgICByZXNwb25zZTogewogICAgICBhY3Rpb246ICdzdGFydGluZycsCiAgICB9CiAgfTsKCiAgaWYgKCFmaWxlcykgewogICAgcmV0dXJuIHsKICAgICAgcmVzcG9uc2U6IHsKICAgICAgICBhY3Rpb246ICdjb21wbGV0ZScsCiAgICAgIH0KICAgIH07CiAgfQoKICBjYW5jZWwucmVtb3ZlKCk7CgogIC8vIERpc2FibGUgdGhlIGlucHV0IGVsZW1lbnQgc2luY2UgZnVydGhlciBwaWNrcyBhcmUgbm90IGFsbG93ZWQuCiAgaW5wdXRFbGVtZW50LmRpc2FibGVkID0gdHJ1ZTsKCiAgZm9yIChjb25zdCBmaWxlIG9mIGZpbGVzKSB7CiAgICBjb25zdCBsaSA9IGRvY3VtZW50LmNyZWF0ZUVsZW1lbnQoJ2xpJyk7CiAgICBsaS5hcHBlbmQoc3BhbihmaWxlLm5hbWUsIHtmb250V2VpZ2h0OiAnYm9sZCd9KSk7CiAgICBsaS5hcHBlbmQoc3BhbigKICAgICAgICBgKCR7ZmlsZS50eXBlIHx8ICduL2EnfSkgLSAke2ZpbGUuc2l6ZX0gYnl0ZXMsIGAgKwogICAgICAgIGBsYXN0IG1vZGlmaWVkOiAkewogICAgICAgICAgICBmaWxlLmxhc3RNb2RpZmllZERhdGUgPyBmaWxlLmxhc3RNb2RpZmllZERhdGUudG9Mb2NhbGVEYXRlU3RyaW5nKCkgOgogICAgICAgICAgICAgICAgICAgICAgICAgICAgICAgICAgICAnbi9hJ30gLSBgKSk7CiAgICBjb25zdCBwZXJjZW50ID0gc3BhbignMCUgZG9uZScpOwogICAgbGkuYXBwZW5kQ2hpbGQocGVyY2VudCk7CgogICAgb3V0cHV0RWxlbWVudC5hcHBlbmRDaGlsZChsaSk7CgogICAgY29uc3QgZmlsZURhdGFQcm9taXNlID0gbmV3IFByb21pc2UoKHJlc29sdmUpID0+IHsKICAgICAgY29uc3QgcmVhZGVyID0gbmV3IEZpbGVSZWFkZXIoKTsKICAgICAgcmVhZGVyLm9ubG9hZCA9IChlKSA9PiB7CiAgICAgICAgcmVzb2x2ZShlLnRhcmdldC5yZXN1bHQpOwogICAgICB9OwogICAgICByZWFkZXIucmVhZEFzQXJyYXlCdWZmZXIoZmlsZSk7CiAgICB9KTsKICAgIC8vIFdhaXQgZm9yIHRoZSBkYXRhIHRvIGJlIHJlYWR5LgogICAgbGV0IGZpbGVEYXRhID0geWllbGQgewogICAgICBwcm9taXNlOiBmaWxlRGF0YVByb21pc2UsCiAgICAgIHJlc3BvbnNlOiB7CiAgICAgICAgYWN0aW9uOiAnY29udGludWUnLAogICAgICB9CiAgICB9OwoKICAgIC8vIFVzZSBhIGNodW5rZWQgc2VuZGluZyB0byBhdm9pZCBtZXNzYWdlIHNpemUgbGltaXRzLiBTZWUgYi82MjExNTY2MC4KICAgIGxldCBwb3NpdGlvbiA9IDA7CiAgICB3aGlsZSAocG9zaXRpb24gPCBmaWxlRGF0YS5ieXRlTGVuZ3RoKSB7CiAgICAgIGNvbnN0IGxlbmd0aCA9IE1hdGgubWluKGZpbGVEYXRhLmJ5dGVMZW5ndGggLSBwb3NpdGlvbiwgTUFYX1BBWUxPQURfU0laRSk7CiAgICAgIGNvbnN0IGNodW5rID0gbmV3IFVpbnQ4QXJyYXkoZmlsZURhdGEsIHBvc2l0aW9uLCBsZW5ndGgpOwogICAgICBwb3NpdGlvbiArPSBsZW5ndGg7CgogICAgICBjb25zdCBiYXNlNjQgPSBidG9hKFN0cmluZy5mcm9tQ2hhckNvZGUuYXBwbHkobnVsbCwgY2h1bmspKTsKICAgICAgeWllbGQgewogICAgICAgIHJlc3BvbnNlOiB7CiAgICAgICAgICBhY3Rpb246ICdhcHBlbmQnLAogICAgICAgICAgZmlsZTogZmlsZS5uYW1lLAogICAgICAgICAgZGF0YTogYmFzZTY0LAogICAgICAgIH0sCiAgICAgIH07CiAgICAgIHBlcmNlbnQudGV4dENvbnRlbnQgPQogICAgICAgICAgYCR7TWF0aC5yb3VuZCgocG9zaXRpb24gLyBmaWxlRGF0YS5ieXRlTGVuZ3RoKSAqIDEwMCl9JSBkb25lYDsKICAgIH0KICB9CgogIC8vIEFsbCBkb25lLgogIHlpZWxkIHsKICAgIHJlc3BvbnNlOiB7CiAgICAgIGFjdGlvbjogJ2NvbXBsZXRlJywKICAgIH0KICB9Owp9CgpzY29wZS5nb29nbGUgPSBzY29wZS5nb29nbGUgfHwge307CnNjb3BlLmdvb2dsZS5jb2xhYiA9IHNjb3BlLmdvb2dsZS5jb2xhYiB8fCB7fTsKc2NvcGUuZ29vZ2xlLmNvbGFiLl9maWxlcyA9IHsKICBfdXBsb2FkRmlsZXMsCiAgX3VwbG9hZEZpbGVzQ29udGludWUsCn07Cn0pKHNlbGYpOwo=",
              "ok": true,
              "headers": [
                [
                  "content-type",
                  "application/javascript"
                ]
              ],
              "status": 200,
              "status_text": ""
            }
          },
          "base_uri": "https://localhost:8080/",
          "height": 71
        },
        "outputId": "a903e973-5e8c-41c6-a598-0404c4205533"
      },
      "cell_type": "code",
      "source": [
        "# Import file to google colaboratory\n",
        "from google.colab import files\n",
        "# upload the train dataset\n",
        "uploaded = files.upload()"
      ],
      "execution_count": 198,
      "outputs": [
        {
          "output_type": "display_data",
          "data": {
            "text/html": [
              "\n",
              "     <input type=\"file\" id=\"files-27e8c3ce-75bf-4887-979a-1b221996a428\" name=\"files[]\" multiple disabled />\n",
              "     <output id=\"result-27e8c3ce-75bf-4887-979a-1b221996a428\">\n",
              "      Upload widget is only available when the cell has been executed in the\n",
              "      current browser session. Please rerun this cell to enable.\n",
              "      </output>\n",
              "      <script src=\"/nbextensions/google.colab/files.js\"></script> "
            ],
            "text/plain": [
              "<IPython.core.display.HTML object>"
            ]
          },
          "metadata": {
            "tags": []
          }
        },
        {
          "output_type": "stream",
          "text": [
            "Saving train_auto.csv to train_auto (2).csv\n"
          ],
          "name": "stdout"
        }
      ]
    },
    {
      "metadata": {
        "id": "f3b1uU91c-6V",
        "colab_type": "code",
        "colab": {}
      },
      "cell_type": "code",
      "source": [
        "import io\n",
        "#read in the train auto ins dataset\n",
        "train = pd.read_csv('train_auto.csv')"
      ],
      "execution_count": 0,
      "outputs": []
    },
    {
      "metadata": {
        "id": "gLPdo3aZc--5",
        "colab_type": "code",
        "colab": {
          "resources": {
            "http://localhost:8080/nbextensions/google.colab/files.js": {
              "data": "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",
              "ok": true,
              "headers": [
                [
                  "content-type",
                  "application/javascript"
                ]
              ],
              "status": 200,
              "status_text": ""
            }
          },
          "base_uri": "https://localhost:8080/",
          "height": 71
        },
        "outputId": "c81a6042-4b85-42e3-a96b-1255a73253b3"
      },
      "cell_type": "code",
      "source": [
        "# Import file to google colaboratory\n",
        "# upload the test dataset\n",
        "uploaded = files.upload()"
      ],
      "execution_count": 200,
      "outputs": [
        {
          "output_type": "display_data",
          "data": {
            "text/html": [
              "\n",
              "     <input type=\"file\" id=\"files-df5cbbed-3221-473a-baa6-8ff230ea1b21\" name=\"files[]\" multiple disabled />\n",
              "     <output id=\"result-df5cbbed-3221-473a-baa6-8ff230ea1b21\">\n",
              "      Upload widget is only available when the cell has been executed in the\n",
              "      current browser session. Please rerun this cell to enable.\n",
              "      </output>\n",
              "      <script src=\"/nbextensions/google.colab/files.js\"></script> "
            ],
            "text/plain": [
              "<IPython.core.display.HTML object>"
            ]
          },
          "metadata": {
            "tags": []
          }
        },
        {
          "output_type": "stream",
          "text": [
            "Saving test_auto.csv to test_auto (2).csv\n"
          ],
          "name": "stdout"
        }
      ]
    },
    {
      "metadata": {
        "id": "ULivoKs1dMGM",
        "colab_type": "code",
        "colab": {}
      },
      "cell_type": "code",
      "source": [
        "#Read in the test auto ins dataset\n",
        "test = pd.read_csv('test_auto.csv')"
      ],
      "execution_count": 0,
      "outputs": []
    },
    {
      "metadata": {
        "id": "YW5fGnrFcpst",
        "colab_type": "code",
        "colab": {
          "base_uri": "https://localhost:8080/",
          "height": 34
        },
        "outputId": "b68fb05c-2d47-49c5-fd6b-d487411185ed"
      },
      "cell_type": "code",
      "source": [
        "#A good step to take is to convert all variable names to lower case\n",
        "train.columns = [s.lower() for s in train.columns]\n",
        "test.columns = [s.lower() for s in train.columns]\n",
        "train.head()\n",
        "train.shape"
      ],
      "execution_count": 202,
      "outputs": [
        {
          "output_type": "execute_result",
          "data": {
            "text/plain": [
              "(8161, 26)"
            ]
          },
          "metadata": {
            "tags": []
          },
          "execution_count": 202
        }
      ]
    },
    {
      "metadata": {
        "id": "hxnY6Moccpsz",
        "colab_type": "code",
        "colab": {
          "base_uri": "https://localhost:8080/",
          "height": 68
        },
        "outputId": "4f484660-5691-499e-c5e9-6b1fd5bcd9be"
      },
      "cell_type": "code",
      "source": [
        "print('')\n",
        "print('----- Summary of Input Data -----')\n",
        "print('')"
      ],
      "execution_count": 203,
      "outputs": [
        {
          "output_type": "stream",
          "text": [
            "\n",
            "----- Summary of Input Data -----\n",
            "\n"
          ],
          "name": "stdout"
        }
      ]
    },
    {
      "metadata": {
        "id": "afkA19eBcps2",
        "colab_type": "code",
        "colab": {
          "base_uri": "https://localhost:8080/",
          "height": 34
        },
        "outputId": "aec80ddc-c998-473f-d241-6893061fd17a"
      },
      "cell_type": "code",
      "source": [
        "# show the object is a DataFrame\n",
        "print('Object type: ', type(train))"
      ],
      "execution_count": 204,
      "outputs": [
        {
          "output_type": "stream",
          "text": [
            "Object type:  <class 'pandas.core.frame.DataFrame'>\n"
          ],
          "name": "stdout"
        }
      ]
    },
    {
      "metadata": {
        "id": "GdTPNg-gcps5",
        "colab_type": "code",
        "colab": {
          "base_uri": "https://localhost:8080/",
          "height": 34
        },
        "outputId": "f35cd75d-368c-4fcf-8ae0-33ebb22e8ea9"
      },
      "cell_type": "code",
      "source": [
        "# show number of observations in the DataFrame\n",
        "print('Number of observations: ', len(train))"
      ],
      "execution_count": 205,
      "outputs": [
        {
          "output_type": "stream",
          "text": [
            "Number of observations:  8161\n"
          ],
          "name": "stdout"
        }
      ]
    },
    {
      "metadata": {
        "id": "Seqe9FMocps8",
        "colab_type": "code",
        "colab": {
          "base_uri": "https://localhost:8080/",
          "height": 85
        },
        "outputId": "2f11cc4d-e53f-45f8-a4ac-e24a6e3639e8"
      },
      "cell_type": "code",
      "source": [
        "# show variable names\n",
        "print('Variable names: ', train.columns)"
      ],
      "execution_count": 206,
      "outputs": [
        {
          "output_type": "stream",
          "text": [
            "Variable names:  Index(['index', 'target_flag', 'target_amt', 'kidsdriv', 'age', 'homekids', 'yoj', 'income', 'parent1', 'home_val',\n",
            "       'mstatus', 'sex', 'education', 'job', 'travtime', 'car_use', 'bluebook', 'tif', 'car_type', 'red_car',\n",
            "       'oldclaim', 'clm_freq', 'revoked', 'mvr_pts', 'car_age', 'urbanicity'],\n",
            "      dtype='object')\n"
          ],
          "name": "stdout"
        }
      ]
    },
    {
      "metadata": {
        "id": "D7KopkaOcps_",
        "colab_type": "code",
        "colab": {
          "base_uri": "https://localhost:8080/",
          "height": 102
        },
        "outputId": "4bbcffa0-35c9-4344-bf38-b6d767bf5273"
      },
      "cell_type": "code",
      "source": [
        "print('----train dataset column types information-------')\n",
        "dtype_df = train.dtypes.reset_index()\n",
        "dtype_df.columns = [\"Count\", \"Column Type\"]\n",
        "dtype_df.groupby(\"Column Type\").aggregate('count').reset_index()"
      ],
      "execution_count": 207,
      "outputs": [
        {
          "output_type": "stream",
          "text": [
            "----train dataset column types information-------\n"
          ],
          "name": "stdout"
        },
        {
          "output_type": "execute_result",
          "data": {
            "text/plain": [
              "  Column Type  Count\n",
              "0       int64      8\n",
              "1     float64      4\n",
              "2      object     14"
            ]
          },
          "metadata": {
            "tags": []
          },
          "execution_count": 207
        }
      ]
    },
    {
      "metadata": {
        "id": "ax4SZBERcptD",
        "colab_type": "code",
        "colab": {
          "base_uri": "https://localhost:8080/",
          "height": 34
        },
        "outputId": "d7283ec1-0bc1-436b-d49a-47926bda8e96"
      },
      "cell_type": "code",
      "source": [
        "#Do we have missing values? \n",
        "datasetHasNan = False\n",
        "if train.count().min() == train.shape[0] and test.count().min() == test.shape[0] :\n",
        "    print('We do not need to worry about missing values.') \n",
        "else:\n",
        "    datasetHasNan = True\n",
        "    print('oops we have nan')"
      ],
      "execution_count": 208,
      "outputs": [
        {
          "output_type": "stream",
          "text": [
            "oops we have nan\n"
          ],
          "name": "stdout"
        }
      ]
    },
    {
      "metadata": {
        "id": "-AlA8TGkcptG",
        "colab_type": "code",
        "colab": {
          "base_uri": "https://localhost:8080/",
          "height": 187
        },
        "outputId": "77e98ddf-5cff-46c2-a256-515720b755b8"
      },
      "cell_type": "code",
      "source": [
        "#Check for missing data & list them \n",
        "if datasetHasNan == True:\n",
        "    nas = pd.concat([train.isnull().sum(), test.isnull().sum()], axis=1, keys=['Train Dataset', 'Test Dataset']) \n",
        "    print('Nan in the data sets')\n",
        "    print(nas[nas.sum(axis=1) > 0])"
      ],
      "execution_count": 209,
      "outputs": [
        {
          "output_type": "stream",
          "text": [
            "Nan in the data sets\n",
            "             Train Dataset  Test Dataset\n",
            "target_flag              0          2141\n",
            "target_amt               0          2141\n",
            "age                      6             1\n",
            "yoj                    454            94\n",
            "income                 445           125\n",
            "home_val               464           111\n",
            "job                    526           139\n",
            "car_age                510           129\n"
          ],
          "name": "stdout"
        }
      ]
    },
    {
      "metadata": {
        "id": "4rKxhiDicptJ",
        "colab_type": "code",
        "colab": {
          "base_uri": "https://localhost:8080/",
          "height": 340
        },
        "outputId": "05353236-31f6-4388-902f-ddb3aaf737f3"
      },
      "cell_type": "code",
      "source": [
        "# show descriptive statistics\n",
        "print(train.describe())"
      ],
      "execution_count": 210,
      "outputs": [
        {
          "output_type": "stream",
          "text": [
            "              index  target_flag     target_amt     kidsdriv          age     homekids          yoj     travtime  \\\n",
            "count   8161.000000  8161.000000    8161.000000  8161.000000  8155.000000  8161.000000  7707.000000  8161.000000   \n",
            "mean    5151.867663     0.263816    1504.324648     0.171057    44.790313     0.721235    10.499286    33.485725   \n",
            "std     2978.893962     0.440728    4704.026930     0.511534     8.627589     1.116323     4.092474    15.908333   \n",
            "min        1.000000     0.000000       0.000000     0.000000    16.000000     0.000000     0.000000     5.000000   \n",
            "25%     2559.000000     0.000000       0.000000     0.000000    39.000000     0.000000     9.000000    22.000000   \n",
            "50%     5133.000000     0.000000       0.000000     0.000000    45.000000     0.000000    11.000000    33.000000   \n",
            "75%     7745.000000     1.000000    1036.000000     0.000000    51.000000     1.000000    13.000000    44.000000   \n",
            "max    10302.000000     1.000000  107586.136160     4.000000    81.000000     5.000000    23.000000   142.000000   \n",
            "\n",
            "               tif     clm_freq      mvr_pts      car_age  \n",
            "count  8161.000000  8161.000000  8161.000000  7651.000000  \n",
            "mean      5.351305     0.798554     1.695503     8.328323  \n",
            "std       4.146635     1.158453     2.147112     5.700742  \n",
            "min       1.000000     0.000000     0.000000    -3.000000  \n",
            "25%       1.000000     0.000000     0.000000     1.000000  \n",
            "50%       4.000000     0.000000     1.000000     8.000000  \n",
            "75%       7.000000     2.000000     3.000000    12.000000  \n",
            "max      25.000000     5.000000    13.000000    28.000000  \n"
          ],
          "name": "stdout"
        }
      ]
    },
    {
      "metadata": {
        "id": "Gwbl18HdcptM",
        "colab_type": "code",
        "colab": {}
      },
      "cell_type": "code",
      "source": [
        "#pandas_profiling.ProfileReport(train)"
      ],
      "execution_count": 0,
      "outputs": []
    },
    {
      "metadata": {
        "id": "VR0ccUBPcptO",
        "colab_type": "code",
        "colab": {}
      },
      "cell_type": "code",
      "source": [
        "# Clean the currency columns to numeric for train data\n",
        "train['bluebook'] = train['bluebook'].str.replace(',', '')\n",
        "train['bluebook'] = train['bluebook'].str.replace('$', '')\n",
        "train['income'] = train['income'].str.replace(',', '')\n",
        "train['income'] = train['income'].str.replace('$', '')\n",
        "train['home_val'] = train['home_val'].str.replace(',', '')\n",
        "train['home_val'] = train['home_val'].str.replace('$', '')\n",
        "train['oldclaim'] = train['oldclaim'].str.replace(',', '')\n",
        "train['oldclaim'] = train['oldclaim'].str.replace('$', '')\n",
        "\n",
        "cols = ['bluebook', 'income', 'home_val','oldclaim']\n",
        "train[cols] = train[cols].apply(pd.to_numeric, errors='coerce', axis=1)"
      ],
      "execution_count": 0,
      "outputs": []
    },
    {
      "metadata": {
        "id": "_EYPGuIccptS",
        "colab_type": "code",
        "colab": {}
      },
      "cell_type": "code",
      "source": [
        "# Clean the currency columns to numeric for test data\n",
        "test['bluebook'] = test['bluebook'].str.replace(',', '')\n",
        "test['bluebook'] = test['bluebook'].str.replace('$', '')\n",
        "test['income'] = test['income'].str.replace(',', '')\n",
        "test['income'] = test['income'].str.replace('$', '')\n",
        "test['home_val'] = test['home_val'].str.replace(',', '')\n",
        "test['home_val'] = test['home_val'].str.replace('$', '')\n",
        "test['oldclaim'] = test['oldclaim'].str.replace(',', '')\n",
        "test['oldclaim'] = test['oldclaim'].str.replace('$', '')\n",
        "\n",
        "cols = ['bluebook', 'income', 'home_val','oldclaim']\n",
        "test[cols] = test[cols].apply(pd.to_numeric, errors='coerce', axis=1)"
      ],
      "execution_count": 0,
      "outputs": []
    },
    {
      "metadata": {
        "id": "dpP2qheHcpta",
        "colab_type": "code",
        "colab": {}
      },
      "cell_type": "code",
      "source": [
        "# We have one record that contains a negative car age.  Unless someone is buying a car \"in the future\" this does not seem possible.\n",
        "# Let's drop this record as I believe this data is invalid\n",
        "train1 = train[train.car_age > -2]"
      ],
      "execution_count": 0,
      "outputs": []
    },
    {
      "metadata": {
        "id": "QJgDrdB1cptd",
        "colab_type": "code",
        "colab": {}
      },
      "cell_type": "code",
      "source": [
        "#watch the count it will tell you if a variable has some missing values that you will need to deal with\n",
        "train1=train1.fillna(0)\n",
        "\n",
        "# age = mean (normal)\n",
        "m0 = np.mean(train1.age[train1.age>0])\n",
        "train1 = train1.replace({'age': {0: m0}})\n",
        "#pct1, pct99 = train1.age.quantile([0.01,0.99])\n",
        "#train1.age.clip(lower = pct1, upper = pct99, inplace = True)\n",
        "# bluebook = median (skewed)\n",
        "m1 = np.median(train1.bluebook[train1.bluebook>0])\n",
        "train1 = train1.replace({'bluebook': {0: m1}})\n",
        "pct1, pct99 = train1.bluebook.quantile([0.01,0.99])\n",
        "train1.bluebook.clip(lower = pct1, upper = pct99, inplace = True)\n",
        "# car_age = mean\n",
        "m2 = np.mean(train1.car_age[train1.car_age>0])\n",
        "train1 = train1.replace({'car_age': {0: m2}})\n",
        "pct1, pct99 = train1.car_age.quantile([0.01,0.99])\n",
        "train1.car_age.clip(lower = pct1, upper = pct99, inplace = True)\n",
        "# clm_freq = median (skewed)\n",
        "m3 = np.median(train1.clm_freq[train1.clm_freq>0])\n",
        "train1 = train1.replace({'clm_freq': {0: m3}})\n",
        "pct1, pct99 = train1.clm_freq.quantile([0.01,0.99])\n",
        "train1.clm_freq.clip(lower = pct1, upper = pct99, inplace = True)\n",
        "# homekids (skewed)\n",
        "#m4 = np.median(train1.homekids[train1.homekids>0])\n",
        "#train1 = train1.replace({'homekids': {0: m4}})\n",
        "#pct1, pct99 = train1.homekids.quantile([0.01,0.99])\n",
        "#train1.homekids.clip(lower = pct1, upper = pct99, inplace = True)\n",
        "# home_val = median (skewed)\n",
        "m5 = np.median(train1.home_val[train1.home_val>0])\n",
        "train1 = train1.replace({'home_val': {0: m5}})\n",
        "pct1, pct99 = train1.home_val.quantile([0.01,0.99])\n",
        "train1.home_val.clip(lower = pct1, upper = pct99, inplace = True)\n",
        "# income = median (skewed)\n",
        "m6 = np.median(train1.income[train1.income>0])\n",
        "train1 = train1.replace({'income': {0: m6}})\n",
        "pct1, pct99 = train1.income.quantile([0.01,0.99])\n",
        "train1.income.clip(lower = pct1, upper = pct99, inplace = True)\n",
        "# kidsdriv = median (skewed)\n",
        "#m7 = np.median(train1.kidsdriv[train1.kidsdriv>0])\n",
        "#train1 = train1.replace({'kidsdriv': {0: m7}})\n",
        "#pct1, pct99 = train1.kidsdriv.quantile([0.01,0.99])\n",
        "#train1.kidsdriv.clip(lower = pct1, upper = pct99, inplace = True)\n",
        "# mvr_pts = median (skewed)\n",
        "m8 = np.median(train1.mvr_pts[train1.mvr_pts>0])\n",
        "train1 = train1.replace({'mvr_pts': {0: m8}})\n",
        "pct1, pct99 = train1.mvr_pts.quantile([0.01,0.99])\n",
        "train1.mvr_pts.clip(lower = pct1, upper = pct99, inplace = True)\n",
        "# oldclaim = median (skewed)\n",
        "m9 = np.median(train1.oldclaim[train1.oldclaim>0])\n",
        "train1 = train1.replace({'oldclaim': {0: m9}})\n",
        "pct1, pct99 = train1.oldclaim.quantile([0.01,0.99])\n",
        "train1.oldclaim.clip(lower = pct1, upper = pct99, inplace = True)\n",
        "# tif = median (skewed)\n",
        "m10 = np.median(train1.tif[train1.tif>0])\n",
        "train1 = train1.replace({'tif': {0: m10}})\n",
        "pct1, pct99 = train1.tif.quantile([0.01,0.99])\n",
        "train1.tif.clip(lower = pct1, upper = pct99, inplace = True)\n",
        "# travtime = median (skewed)\n",
        "m11 = np.median(train1.travtime[train1.travtime>0])\n",
        "train1 = train1.replace({'travtime': {0: m11}})\n",
        "pct1, pct99 = train1.travtime.quantile([0.01,0.99])\n",
        "train1.travtime.clip(lower = pct1, upper = pct99, inplace = True)\n",
        "# yoj = median (skewed)\n",
        "m12 = np.median(train1.yoj[train1.yoj>0])\n",
        "train1 = train1.replace({'yoj': {0: m12}})\n",
        "pct1, pct99 = train1.yoj.quantile([0.01,0.99])\n",
        "train1.yoj.clip(lower = pct1, upper = pct99, inplace = True)\n",
        "\n",
        "#print(train1.describe())"
      ],
      "execution_count": 0,
      "outputs": []
    },
    {
      "metadata": {
        "id": "y2iA9plwcptg",
        "colab_type": "code",
        "colab": {}
      },
      "cell_type": "code",
      "source": [
        "#Make sure whatever you do to the training data you also do to the test data otherwise your model will not score properly\n",
        "test1=test.fillna(0)\n",
        "\n",
        "test1=test1.replace({'age': {0: m0}})\n",
        "#pct1, pct99 = train1.age.quantile([0.01,0.99])\n",
        "#test1.age.clip(lower = pct1, upper = pct99, inplace = True)\n",
        "test1=test1.replace({'bluebook': {0: m1}})\n",
        "pct1, pct99 = train1.bluebook.quantile([0.01,0.99])\n",
        "test1.bluebook.clip(lower = pct1, upper = pct99, inplace = True)\n",
        "test1=test1.replace({'car_age': {0: m2}})\n",
        "pct1, pct99 = train1.car_age.quantile([0.01,0.99])\n",
        "test1.car_age.clip(lower = pct1, upper = pct99, inplace = True)\n",
        "test1=test1.replace({'clm_freq': {0: m3}})\n",
        "pct1, pct99 = train1.clm_freq.quantile([0.01,0.99])\n",
        "test1.clm_freq.clip(lower = pct1, upper = pct99, inplace = True)\n",
        "#test1=test1.replace({'homekids': {0: m4}})\n",
        "#pct1, pct99 = train1.homekids.quantile([0.01,0.99])\n",
        "#test1.homekids.clip(lower = pct1, upper = pct99, inplace = True)\n",
        "test1=test1.replace({'home_val': {0: m5}})\n",
        "pct1, pct99 = train1.home_val.quantile([0.01,0.99])\n",
        "test1.home_val.clip(lower = pct1, upper = pct99, inplace = True)\n",
        "test1=test1.replace({'income': {0: m6}})\n",
        "pct1, pct99 = train1.income.quantile([0.01,0.99])\n",
        "test1.income.clip(lower = pct1, upper = pct99, inplace = True)\n",
        "#test1=test1.replace({'kidsdriv': {0: m7}})\n",
        "#pct1, pct99 = train1.kidsdriv.quantile([0.01,0.99])\n",
        "#test1.kidsdriv.clip(lower = pct1, upper = pct99, inplace = True)\n",
        "test1=test1.replace({'mvr_pts': {0: m8}})\n",
        "pct1, pct99 = train1.mvr_pts.quantile([0.01,0.99])\n",
        "test1.mvr_pts.clip(lower = pct1, upper = pct99, inplace = True)\n",
        "test1=test1.replace({'oldclaim': {0: m9}})\n",
        "pct1, pct99 = train1.oldclaim.quantile([0.01,0.99])\n",
        "test1.oldclaim.clip(lower = pct1, upper = pct99, inplace = True)\n",
        "test1=test1.replace({'tif': {0: m10}})\n",
        "pct1, pct99 = train1.tif.quantile([0.01,0.99])\n",
        "test1.tif.clip(lower = pct1, upper = pct99, inplace = True)\n",
        "test1=test1.replace({'travtime': {0: m11}})\n",
        "pct1, pct99 = train1.travtime.quantile([0.01,0.99])\n",
        "test1.travtime.clip(lower = pct1, upper = pct99, inplace = True)\n",
        "test1=test1.replace({'yoj': {0: m12}})\n",
        "pct1, pct99 = train1.yoj.quantile([0.01,0.99])\n",
        "test1.yoj.clip(lower = pct1, upper = pct99, inplace = True)\n",
        "\n",
        "#print(test1.describe())"
      ],
      "execution_count": 0,
      "outputs": []
    },
    {
      "metadata": {
        "id": "pY62i2-4cptj",
        "colab_type": "code",
        "colab": {}
      },
      "cell_type": "code",
      "source": [
        "# round age, someone can't be 44.8 years old\n",
        "train1.age = train1.age.round()\n",
        "test1.age = test1.age.round()"
      ],
      "execution_count": 0,
      "outputs": []
    },
    {
      "metadata": {
        "id": "J7bLZ-f6cptl",
        "colab_type": "code",
        "colab": {
          "base_uri": "https://localhost:8080/",
          "height": 68
        },
        "outputId": "c628bc76-8cfe-4879-f941-47ed50dba18c"
      },
      "cell_type": "code",
      "source": [
        "print('')\n",
        "print('----- Exploratory Data Analysis -----')\n",
        "print('')"
      ],
      "execution_count": 218,
      "outputs": [
        {
          "output_type": "stream",
          "text": [
            "\n",
            "----- Exploratory Data Analysis -----\n",
            "\n"
          ],
          "name": "stdout"
        }
      ]
    },
    {
      "metadata": {
        "id": "SVoWCi6Ecptp",
        "colab_type": "code",
        "colab": {
          "base_uri": "https://localhost:8080/",
          "height": 321
        },
        "outputId": "742dbe99-7921-4789-db3b-82ac8b500eb7"
      },
      "cell_type": "code",
      "source": [
        "# Let's look at the distribution of the accidents \"target_flag\" by age\n",
        "df_plot = train1.groupby(['target_flag', 'age']).size().reset_index().pivot(columns='target_flag', index='age', values=0)\n",
        "df_plot.plot(x=df_plot.index, kind='bar', stacked=True)\n",
        "plt.title('Distribution of Accidents by Age')\n",
        "plt.xlabel('Age')\n",
        "plt.ylabel('# of Crashes')"
      ],
      "execution_count": 219,
      "outputs": [
        {
          "output_type": "execute_result",
          "data": {
            "text/plain": [
              "Text(0, 0.5, '# of Crashes')"
            ]
          },
          "metadata": {
            "tags": []
          },
          "execution_count": 219
        },
        {
          "output_type": "display_data",
          "data": {
            "image/png": "[encoded data removed]",
            "text/plain": [
              "<Figure size 432x288 with 1 Axes>"
            ]
          },
          "metadata": {
            "tags": []
          }
        }
      ]
    },
    {
      "metadata": {
        "scrolled": true,
        "id": "PuXHzOzvcptt",
        "colab_type": "code",
        "colab": {
          "base_uri": "https://localhost:8080/",
          "height": 321
        },
        "outputId": "57989687-0cfc-42b2-f1b5-44cc9e471a72"
      },
      "cell_type": "code",
      "source": [
        "# Let's look at the proportion of the target flag by age\n",
        "table=pd.crosstab(train1.age,train1.target_flag)\n",
        "table.div(table.sum(1).astype(float), axis=0).plot(kind='bar', stacked=True, legend=None)\n",
        "plt.title('Proportion of Accidents by Age')\n",
        "plt.xlabel('Age')\n",
        "plt.ylabel('Proportion of Target Flag')"
      ],
      "execution_count": 220,
      "outputs": [
        {
          "output_type": "execute_result",
          "data": {
            "text/plain": [
              "Text(0, 0.5, 'Proportion of Target Flag')"
            ]
          },
          "metadata": {
            "tags": []
          },
          "execution_count": 220
        },
        {
          "output_type": "display_data",
          "data": {
            "image/png": "[encoded data removed]",
            "text/plain": [
              "<Figure size 432x288 with 1 Axes>"
            ]
          },
          "metadata": {
            "tags": []
          }
        }
      ]
    },
    {
      "metadata": {
        "scrolled": false,
        "id": "mKaKgodCcptw",
        "colab_type": "code",
        "colab": {
          "base_uri": "https://localhost:8080/",
          "height": 362
        },
        "outputId": "9a7ca909-ed56-49c5-e2ae-4fefcf2f0a39"
      },
      "cell_type": "code",
      "source": [
        "#Distribution Plot (Histogram of age)\n",
        "# Set up the matplotlib figure\n",
        "f, ax = plt.subplots(figsize=(6, 4))\n",
        "sns.distplot(train1.age, bins=10).set_title('Distribution of Age')\n",
        "#Histogram confirms relatively normal distribution."
      ],
      "execution_count": 221,
      "outputs": [
        {
          "output_type": "stream",
          "text": [
            "/usr/local/lib/python3.6/dist-packages/matplotlib/axes/_axes.py:6521: MatplotlibDeprecationWarning: \n",
            "The 'normed' kwarg was deprecated in Matplotlib 2.1 and will be removed in 3.1. Use 'density' instead.\n",
            "  alternative=\"'density'\", removal=\"3.1\")\n"
          ],
          "name": "stderr"
        },
        {
          "output_type": "execute_result",
          "data": {
            "text/plain": [
              "Text(0.5, 1.0, 'Distribution of Age')"
            ]
          },
          "metadata": {
            "tags": []
          },
          "execution_count": 221
        },
        {
          "output_type": "display_data",
          "data": {
            "image/png": "[encoded data removed]",
            "text/plain": [
              "<Figure size 432x288 with 1 Axes>"
            ]
          },
          "metadata": {
            "tags": []
          }
        }
      ]
    },
    {
      "metadata": {
        "scrolled": true,
        "id": "1aWf6jN7cpty",
        "colab_type": "code",
        "colab": {
          "base_uri": "https://localhost:8080/",
          "height": 294
        },
        "outputId": "6ea880e9-7e4e-4a62-e913-5215043b3eff"
      },
      "cell_type": "code",
      "source": [
        "# create qqplot of age - confirms skewing in the tails\n",
        "sm.qqplot(train1['age'])\n",
        "plt.title('QQ-plot of Age') \n",
        "plt.show()"
      ],
      "execution_count": 222,
      "outputs": [
        {
          "output_type": "display_data",
          "data": {
            "image/png": "[encoded data removed]",
            "text/plain": [
              "<Figure size 432x288 with 1 Axes>"
            ]
          },
          "metadata": {
            "tags": []
          }
        }
      ]
    },
    {
      "metadata": {
        "id": "2Bg2R4-fcpt1",
        "colab_type": "code",
        "colab": {
          "base_uri": "https://localhost:8080/",
          "height": 362
        },
        "outputId": "5c1025b9-f98a-4882-8ac5-08ea48779586"
      },
      "cell_type": "code",
      "source": [
        "#Distribution Plot (Histogram of age)\n",
        "# Set up the matplotlib figure\n",
        "f, ax = plt.subplots(figsize=(6, 4))\n",
        "sns.distplot(train1.oldclaim, bins=10).set_title('Distribution of Old Claim')\n",
        "#Histogram shows highly skewed distribution"
      ],
      "execution_count": 223,
      "outputs": [
        {
          "output_type": "stream",
          "text": [
            "/usr/local/lib/python3.6/dist-packages/matplotlib/axes/_axes.py:6521: MatplotlibDeprecationWarning: \n",
            "The 'normed' kwarg was deprecated in Matplotlib 2.1 and will be removed in 3.1. Use 'density' instead.\n",
            "  alternative=\"'density'\", removal=\"3.1\")\n"
          ],
          "name": "stderr"
        },
        {
          "output_type": "execute_result",
          "data": {
            "text/plain": [
              "Text(0.5, 1.0, 'Distribution of Old Claim')"
            ]
          },
          "metadata": {
            "tags": []
          },
          "execution_count": 223
        },
        {
          "output_type": "display_data",
          "data": {
            "image/png": "[encoded data removed]",
            "text/plain": [
              "<Figure size 432x288 with 1 Axes>"
            ]
          },
          "metadata": {
            "tags": []
          }
        }
      ]
    },
    {
      "metadata": {
        "id": "DykBRzipcpt4",
        "colab_type": "code",
        "colab": {
          "base_uri": "https://localhost:8080/",
          "height": 294
        },
        "outputId": "b013783a-38c1-4f62-9531-8ee3e26852d3"
      },
      "cell_type": "code",
      "source": [
        "# qqplot of old claim confirms this variable is not normally distributed\n",
        "sm.qqplot(train1['oldclaim'])\n",
        "plt.title('QQ-plot of Old Claim') \n",
        "plt.show()"
      ],
      "execution_count": 224,
      "outputs": [
        {
          "output_type": "display_data",
          "data": {
            "image/png": "[encoded data removed]",
            "text/plain": [
              "<Figure size 432x288 with 1 Axes>"
            ]
          },
          "metadata": {
            "tags": []
          }
        }
      ]
    },
    {
      "metadata": {
        "id": "HtXMwU6Zcpt7",
        "colab_type": "code",
        "colab": {
          "base_uri": "https://localhost:8080/",
          "height": 294
        },
        "outputId": "b4e3e0a8-60dd-4aa2-f0ad-744aec6c1970"
      },
      "cell_type": "code",
      "source": [
        "# urban legend says that women have less crashes than men.  Is that true?\n",
        "train_crash = train1[train1['target_amt'] != 0]\n",
        "train_crash.groupby('sex').index.count().\\\n",
        "    sort_values().\\\n",
        "    plot(kind='barh', figsize=(5,4), color=('#448AFF','#FF80AB'))\n",
        "plt.xlabel('# of Crashes')\n",
        "plt.title('Do women have less crashes than men?')\n",
        "plt.show()\n",
        "# No, women appear to have more crashes than men."
      ],
      "execution_count": 225,
      "outputs": [
        {
          "output_type": "display_data",
          "data": {
            "image/png": "[encoded data removed]",
            "text/plain": [
              "<Figure size 360x288 with 1 Axes>"
            ]
          },
          "metadata": {
            "tags": []
          }
        }
      ]
    },
    {
      "metadata": {
        "id": "tWb0aWVncpt9",
        "colab_type": "code",
        "colab": {
          "base_uri": "https://localhost:8080/",
          "height": 311
        },
        "outputId": "55a0721b-f76c-459f-e4bc-fae57abfa20e"
      },
      "cell_type": "code",
      "source": [
        "# Let's look at the proportion of the target flag by sex\n",
        "table=pd.crosstab(train1.sex,train1.target_flag)\n",
        "table.div(table.sum(1).astype(float), axis=0).plot(kind='barh', figsize=(5,4), stacked=True, legend=None)\n",
        "plt.title('Proportion of Accidents by Sex')\n",
        "plt.xlabel('Proportion of Target Flag')\n",
        "plt.ylabel('Sex')"
      ],
      "execution_count": 226,
      "outputs": [
        {
          "output_type": "execute_result",
          "data": {
            "text/plain": [
              "Text(0, 0.5, 'Sex')"
            ]
          },
          "metadata": {
            "tags": []
          },
          "execution_count": 226
        },
        {
          "output_type": "display_data",
          "data": {
            "image/png": "[encoded data removed]",
            "text/plain": [
              "<Figure size 360x288 with 1 Axes>"
            ]
          },
          "metadata": {
            "tags": []
          }
        }
      ]
    },
    {
      "metadata": {
        "id": "4JAtN5wccpuA",
        "colab_type": "code",
        "colab": {
          "base_uri": "https://localhost:8080/",
          "height": 294
        },
        "outputId": "3399a71b-0286-4fc0-9db7-bbfae251b87f"
      },
      "cell_type": "code",
      "source": [
        "# urban legend says that red cars (especially red sport cars) are more risky.  Is that true?\n",
        "train_crash.groupby(['car_type','red_car']).index.count().plot(kind='barh', figsize=(6,4),color=('b','r','b','r','b','r','b','r','b','r','b','r'))\n",
        "plt.title('Are red cars more risky?')\n",
        "plt.xlabel('# of Crashes')\n",
        "plt.show()\n",
        "# No, red vehicles appear to be less risky especially sports cars."
      ],
      "execution_count": 227,
      "outputs": [
        {
          "output_type": "display_data",
          "data": {
            "image/png": "[encoded data removed]",
            "text/plain": [
              "<Figure size 432x288 with 1 Axes>"
            ]
          },
          "metadata": {
            "tags": []
          }
        }
      ]
    },
    {
      "metadata": {
        "id": "6pbgoNl0cpuD",
        "colab_type": "code",
        "colab": {
          "base_uri": "https://localhost:8080/",
          "height": 1168
        },
        "outputId": "9e4468dd-db89-49a4-985a-c136ab8c4092"
      },
      "cell_type": "code",
      "source": [
        "#///Do some EDA///;\n",
        "#Some quick plots of the data\n",
        "train1.hist(figsize=(10,8))\n",
        "train1.plot(kind= 'box' , subplots=True, layout=(4,5), sharex=False, sharey=False, figsize=(10,8))"
      ],
      "execution_count": 228,
      "outputs": [
        {
          "output_type": "execute_result",
          "data": {
            "text/plain": [
              "index              AxesSubplot(0.125,0.71587;0.133621x0.16413)\n",
              "target_flag     AxesSubplot(0.285345,0.71587;0.133621x0.16413)\n",
              "target_amt       AxesSubplot(0.44569,0.71587;0.133621x0.16413)\n",
              "kidsdriv        AxesSubplot(0.606034,0.71587;0.133621x0.16413)\n",
              "age             AxesSubplot(0.766379,0.71587;0.133621x0.16413)\n",
              "                                    ...                       \n",
              "tif            AxesSubplot(0.285345,0.321957;0.133621x0.16413)\n",
              "oldclaim        AxesSubplot(0.44569,0.321957;0.133621x0.16413)\n",
              "clm_freq       AxesSubplot(0.606034,0.321957;0.133621x0.16413)\n",
              "mvr_pts        AxesSubplot(0.766379,0.321957;0.133621x0.16413)\n",
              "car_age              AxesSubplot(0.125,0.125;0.133621x0.16413)\n",
              "Length: 16, dtype: object"
            ]
          },
          "metadata": {
            "tags": []
          },
          "execution_count": 228
        },
        {
          "output_type": "display_data",
          "data": {
            "image/png": "[encoded data removed]",
            "text/plain": [
              "<Figure size 720x576 with 16 Axes>"
            ]
          },
          "metadata": {
            "tags": []
          }
        },
        {
          "output_type": "display_data",
          "data": {
            "image/png": "[encoded data removed]",
            "text/plain": [
              "<Figure size 720x576 with 20 Axes>"
            ]
          },
          "metadata": {
            "tags": []
          }
        }
      ]
    },
    {
      "metadata": {
        "id": "kvdzdI2_cpuG",
        "colab_type": "code",
        "colab": {
          "base_uri": "https://localhost:8080/",
          "height": 238
        },
        "outputId": "8fd34b22-c4e7-4d30-f628-b02c79158a9a"
      },
      "cell_type": "code",
      "source": [
        "# Check the skewness and kurtosis of each variable\n",
        "# Is skew close to zero 0?  Is kurtosis close to three 0.0?\n",
        "print('age Skew: {:.3f} | Kurtosis: {:.3f}'.format(  #use median\n",
        "    train.age.skew(), train.age.kurtosis()))\n",
        "print('bluebook Skew: {:.3f} | Kurtosis: {:.3f}'.format(\n",
        "    train.bluebook.skew(), train.bluebook.kurtosis()))\n",
        "print('car_age Skew: {:.3f} | Kurtosis: {:.3f}'.format(\n",
        "    train.car_age.skew(), train.car_age.kurtosis()))\n",
        "print('clm_freq Skew: {:.3f} | Kurtosis: {:.3f}'.format(\n",
        "    train.clm_freq.skew(), train.clm_freq.kurtosis()))\n",
        "print('homekids Skew: {:.3f} | Kurtosis: {:.3f}'.format(\n",
        "    train.homekids.skew(), train.homekids.kurtosis()))\n",
        "print('income Skew: {:.3f} | Kurtosis: {:.3f}'.format(\n",
        "    train.income.skew(), train.income.kurtosis()))\n",
        "print('home_val Skew: {:.3f} | Kurtosis: {:.3f}'.format(\n",
        "    train.home_val.skew(), train.home_val.kurtosis()))\n",
        "print('kidsdriv Skew: {:.3f} | Kurtosis: {:.3f}'.format(\n",
        "    train.kidsdriv.skew(), train.kidsdriv.kurtosis()))\n",
        "print('mvr_pts Skew: {:.3f} | Kurtosis: {:.3f}'.format(\n",
        "    train.mvr_pts.skew(), train.mvr_pts.kurtosis()))\n",
        "print('oldclaim Skew: {:.3f} | Kurtosis: {:.3f}'.format(\n",
        "    train.oldclaim.skew(), train.oldclaim.kurtosis()))\n",
        "print('tif Skew: {:.3f} | Kurtosis: {:.3f}'.format(\n",
        "    train.tif.skew(), train.tif.kurtosis()))\n",
        "print('travtime Skew: {:.3f} | Kurtosis: {:.3f}'.format(\n",
        "    train.travtime.skew(), train.travtime.kurtosis()))\n",
        "print('yoj Skew: {:.3f} | Kurtosis: {:.3f}'.format(\n",
        "    train.yoj.skew(), train.yoj.kurtosis()))"
      ],
      "execution_count": 229,
      "outputs": [
        {
          "output_type": "stream",
          "text": [
            "age Skew: -0.029 | Kurtosis: -0.060\n",
            "bluebook Skew: 0.795 | Kurtosis: 0.794\n",
            "car_age Skew: 0.282 | Kurtosis: -0.748\n",
            "clm_freq Skew: 1.209 | Kurtosis: 0.286\n",
            "homekids Skew: 1.342 | Kurtosis: 0.651\n",
            "income Skew: 1.187 | Kurtosis: 2.133\n",
            "home_val Skew: 0.489 | Kurtosis: -0.015\n",
            "kidsdriv Skew: 3.353 | Kurtosis: 11.792\n",
            "mvr_pts Skew: 1.348 | Kurtosis: 1.378\n",
            "oldclaim Skew: 3.120 | Kurtosis: 9.871\n",
            "tif Skew: 0.891 | Kurtosis: 0.424\n",
            "travtime Skew: 0.447 | Kurtosis: 0.666\n",
            "yoj Skew: -1.203 | Kurtosis: 1.180\n"
          ],
          "name": "stdout"
        }
      ]
    },
    {
      "metadata": {
        "id": "iPTBDKJVcpuI",
        "colab_type": "code",
        "colab": {}
      },
      "cell_type": "code",
      "source": [
        "# create new variables for young, middle-age, and elderly driver's\n",
        "train1['age25'] = (train1['age'] <= 25)\n",
        "train1.age25 = train1.age25.astype(int)\n",
        "train1['age25_56'] = (train1['age'] > 25) & (train1['age'] < 56)\n",
        "train1.age25_56 = train1.age25_56.astype(int)\n",
        "train1['age56'] = (train1['age'] >= 56)\n",
        "train1.age56 = train1.age56.astype(int)"
      ],
      "execution_count": 0,
      "outputs": []
    },
    {
      "metadata": {
        "id": "rTQjbQ1PcpuK",
        "colab_type": "code",
        "colab": {}
      },
      "cell_type": "code",
      "source": [
        "# add new age group variables to test\n",
        "test1['age25'] = (test1['age'] <= 25)\n",
        "test1.age25 = test1.age25.astype(int)\n",
        "test1['age25_56'] = (test1['age'] > 25) & (test1['age'] < 56)\n",
        "test1.age25_56 = test1.age25_56.astype(int)\n",
        "test1['age56'] = (test1['age'] >= 56)\n",
        "test1.age56 = test1.age56.astype(int)"
      ],
      "execution_count": 0,
      "outputs": []
    },
    {
      "metadata": {
        "id": "iUT0UrWgcpuM",
        "colab_type": "code",
        "colab": {}
      },
      "cell_type": "code",
      "source": [
        "# add new missing job variable to train\n",
        "train1[\"miss_job\"] = (train1['job'] == 0)\n",
        "train1.miss_job = train1.miss_job.astype(int)"
      ],
      "execution_count": 0,
      "outputs": []
    },
    {
      "metadata": {
        "id": "q2sCze3pcpuO",
        "colab_type": "code",
        "colab": {}
      },
      "cell_type": "code",
      "source": [
        "# add new missing job variable to test\n",
        "test1[\"miss_job\"] = (test1['job'] == 0)\n",
        "test1.miss_job = test1.miss_job.astype(int)"
      ],
      "execution_count": 0,
      "outputs": []
    },
    {
      "metadata": {
        "id": "MjVhKWugcpuQ",
        "colab_type": "code",
        "colab": {
          "base_uri": "https://localhost:8080/",
          "height": 34
        },
        "outputId": "5ac6acc1-fe5a-45dc-ceee-040eab680e12"
      },
      "cell_type": "code",
      "source": [
        "# calculate upper quartile for income \"rich\" people.\n",
        "upper_quartile = train1.income.quantile(q=0.75)\n",
        "upper_quartile"
      ],
      "execution_count": 234,
      "outputs": [
        {
          "output_type": "execute_result",
          "data": {
            "text/plain": [
              "83301.25"
            ]
          },
          "metadata": {
            "tags": []
          },
          "execution_count": 234
        }
      ]
    },
    {
      "metadata": {
        "id": "--a0JRZAcpuU",
        "colab_type": "code",
        "colab": {
          "base_uri": "https://localhost:8080/",
          "height": 34
        },
        "outputId": "b9944914-25d3-40ae-fb58-bb6f68a66df7"
      },
      "cell_type": "code",
      "source": [
        "# calculate lower quartile for income \"poor\" people.\n",
        "lower_quartile = train1.income.quantile(q=0.25)\n",
        "lower_quartile"
      ],
      "execution_count": 235,
      "outputs": [
        {
          "output_type": "execute_result",
          "data": {
            "text/plain": [
              "37784.0"
            ]
          },
          "metadata": {
            "tags": []
          },
          "execution_count": 235
        }
      ]
    },
    {
      "metadata": {
        "id": "g5vTSppAcpuW",
        "colab_type": "code",
        "colab": {}
      },
      "cell_type": "code",
      "source": [
        "# create new variables for poor, middle-class, and rich driver's\n",
        "train1['poor'] = (train1['income'] <= lower_quartile)\n",
        "train1.poor = train1.poor.astype(int)\n",
        "train1['middle_class'] = (train1['income'] > lower_quartile) & (train1['age'] < upper_quartile)\n",
        "train1.middle_class = train1.middle_class.astype(int)\n",
        "train1['rich'] = (train1['income'] >= upper_quartile)\n",
        "train1.rich = train1.rich.astype(int)"
      ],
      "execution_count": 0,
      "outputs": []
    },
    {
      "metadata": {
        "id": "jjEAgZ9Wcpua",
        "colab_type": "code",
        "colab": {}
      },
      "cell_type": "code",
      "source": [
        "# add new variables for poor, middle-class, and rich driver's to test\n",
        "test1['poor'] = (test1['income'] <= lower_quartile)\n",
        "test1.poor = test1.poor.astype(int)\n",
        "test1['middle_class'] = (test1['income'] > lower_quartile) & (test1['age'] < upper_quartile)\n",
        "test1.middle_class = test1.middle_class.astype(int)\n",
        "test1['rich'] = (test1['income'] >= upper_quartile)\n",
        "test1.rich = test1.rich.astype(int)"
      ],
      "execution_count": 0,
      "outputs": []
    },
    {
      "metadata": {
        "id": "OMgBAv2hcpue",
        "colab_type": "code",
        "colab": {
          "base_uri": "https://localhost:8080/",
          "height": 34
        },
        "outputId": "21ce905f-1928-4e15-e436-460acda326d9"
      },
      "cell_type": "code",
      "source": [
        "# calculate upper 90% for claims \"big\" claims.\n",
        "upper_quartile = train1.oldclaim.quantile(q=0.90)\n",
        "upper_quartile"
      ],
      "execution_count": 238,
      "outputs": [
        {
          "output_type": "execute_result",
          "data": {
            "text/plain": [
              "9537.600000000002"
            ]
          },
          "metadata": {
            "tags": []
          },
          "execution_count": 238
        }
      ]
    },
    {
      "metadata": {
        "id": "2K_cr9LQcpug",
        "colab_type": "code",
        "colab": {
          "base_uri": "https://localhost:8080/",
          "height": 34
        },
        "outputId": "3dbd1ddf-036b-4bec-e637-25b242274fc5"
      },
      "cell_type": "code",
      "source": [
        "# calculate lower 90% for claims \"small\" claims.\n",
        "lower_quartile = train1.oldclaim.quantile(q=0.10)\n",
        "lower_quartile"
      ],
      "execution_count": 239,
      "outputs": [
        {
          "output_type": "execute_result",
          "data": {
            "text/plain": [
              "3763.100000000001"
            ]
          },
          "metadata": {
            "tags": []
          },
          "execution_count": 239
        }
      ]
    },
    {
      "metadata": {
        "id": "c91lt7SCcpuk",
        "colab_type": "code",
        "colab": {}
      },
      "cell_type": "code",
      "source": [
        "# create new variables for small, avg., and big claims to train.\n",
        "train1['smallclaim'] = (train1['oldclaim'] <= lower_quartile)\n",
        "train1.smallclaim = train1.smallclaim.astype(int)\n",
        "train1['avgclaim'] = (train1['oldclaim'] > lower_quartile) & (train1['oldclaim'] < upper_quartile)\n",
        "train1.avgclaim = train1.avgclaim.astype(int)\n",
        "train1['bigclaim'] = (train1['oldclaim'] >= upper_quartile)\n",
        "train1.bigclaim = train1.bigclaim.astype(int)"
      ],
      "execution_count": 0,
      "outputs": []
    },
    {
      "metadata": {
        "id": "Bcx0z4Vfcpun",
        "colab_type": "code",
        "colab": {}
      },
      "cell_type": "code",
      "source": [
        "# add new variables for small, avg., and big claims to test\n",
        "test1['smallclaim'] = (test1['oldclaim'] <= lower_quartile)\n",
        "test1.smallclaim = test1.smallclaim.astype(int)\n",
        "test1['avgclaim'] = (test1['oldclaim'] > lower_quartile) & (test1['oldclaim'] < upper_quartile)\n",
        "test1.avgclaim = test1.avgclaim.astype(int)\n",
        "test1['bigclaim'] = (test1['oldclaim'] >= upper_quartile)\n",
        "test1.bigclaim = test1.bigclaim.astype(int)"
      ],
      "execution_count": 0,
      "outputs": []
    },
    {
      "metadata": {
        "id": "Yh225lOwcpuo",
        "colab_type": "code",
        "colab": {}
      },
      "cell_type": "code",
      "source": [
        "# create a flag for \"risky\" drivers kidsdriv >0 & older than >45 to train\n",
        "train1['risky'] = (train1['kidsdriv'] > 0) & (train1['age'] >= 46)\n",
        "train1.risky = train1.risky.astype(int)"
      ],
      "execution_count": 0,
      "outputs": []
    },
    {
      "metadata": {
        "id": "5UMctdGKcpux",
        "colab_type": "code",
        "colab": {}
      },
      "cell_type": "code",
      "source": [
        "# add flag for \"risky\" drivers kidsdriv >0 & older than >45 to test\n",
        "test1['risky'] = (test1['kidsdriv'] > 0) & (test1['age'] >= 46)\n",
        "test1.risky = test1.risky.astype(int)"
      ],
      "execution_count": 0,
      "outputs": []
    },
    {
      "metadata": {
        "id": "1jbP5aKpcpuz",
        "colab_type": "code",
        "colab": {
          "base_uri": "https://localhost:8080/",
          "height": 439
        },
        "outputId": "b5dcdca9-f8da-4824-e6b5-4a44de72d255"
      },
      "cell_type": "code",
      "source": [
        "#Create a heatmap to check for correlated variables\n",
        "# Compute the correlation matrix\n",
        "corr = train1.corr()\n",
        "\n",
        "# Generate a mask for the upper triangle\n",
        "mask = np.zeros_like(corr, dtype=np.bool)\n",
        "mask[np.triu_indices_from(mask)] = True\n",
        "\n",
        "# Set up the matplotlib figure\n",
        "f, ax = plt.subplots(figsize=(8, 6))\n",
        "\n",
        "# Generate a custom diverging colormap\n",
        "cmap = sns.diverging_palette(220, 10, as_cmap=True)\n",
        "\n",
        "# Draw the heatmap with the mask and correct aspect ratio\n",
        "sns.heatmap(corr, mask=mask, cmap=cmap, vmax=1, vmin=-1, center=0,\n",
        "        square=True, linewidths=1, xticklabels = True, yticklabels = True, cbar_kws={\"shrink\": .5})"
      ],
      "execution_count": 244,
      "outputs": [
        {
          "output_type": "execute_result",
          "data": {
            "text/plain": [
              "<matplotlib.axes._subplots.AxesSubplot at 0x7fee2b1b2320>"
            ]
          },
          "metadata": {
            "tags": []
          },
          "execution_count": 244
        },
        {
          "output_type": "display_data",
          "data": {
            "image/png": "[encoded data removed]",
            "text/plain": [
              "<Figure size 576x432 with 2 Axes>"
            ]
          },
          "metadata": {
            "tags": []
          }
        }
      ]
    },
    {
      "metadata": {
        "id": "_7TNL3lmcpu2",
        "colab_type": "code",
        "colab": {
          "base_uri": "https://localhost:8080/",
          "height": 551
        },
        "outputId": "d91852a6-0045-4afa-92ef-514c4ff83b14"
      },
      "cell_type": "code",
      "source": [
        "# Feature sorted by correlation to target wins, from positive to negative\n",
        "corr = corr.sort_values('target_flag', ascending=False)\n",
        "plt.figure(figsize=(6,8))\n",
        "sns.barplot( corr.target_flag[1:], corr.index[1:], orient='h')\n",
        "plt.show()"
      ],
      "execution_count": 245,
      "outputs": [
        {
          "output_type": "stream",
          "text": [
            "/usr/local/lib/python3.6/dist-packages/seaborn/categorical.py:1428: FutureWarning: remove_na is deprecated and is a private function. Do not use.\n",
            "  stat_data = remove_na(group_data)\n"
          ],
          "name": "stderr"
        },
        {
          "output_type": "display_data",
          "data": {
            "image/png": "[encoded data removed]",
            "text/plain": [
              "<Figure size 432x576 with 1 Axes>"
            ]
          },
          "metadata": {
            "tags": []
          }
        }
      ]
    },
    {
      "metadata": {
        "id": "iR0o7QyQcpu5",
        "colab_type": "code",
        "colab": {}
      },
      "cell_type": "code",
      "source": [
        "# log transform train variables (start with yoj and clm_freq)\n",
        "train1[\"log_yoj\"] = train1['yoj'].apply(np.log)\n",
        "train1[\"log_clm_freq\"] = train1['clm_freq'].apply(np.log)\n",
        "train1[\"log_home_val\"] = train1['home_val'].apply(np.log)\n",
        "train1[\"log_oldclaim\"] = train1['oldclaim'].apply(np.log)"
      ],
      "execution_count": 0,
      "outputs": []
    },
    {
      "metadata": {
        "id": "YcWCYzSPcpu8",
        "colab_type": "code",
        "colab": {}
      },
      "cell_type": "code",
      "source": [
        "# log transform test variables\n",
        "test1[\"log_yoj\"] = test1['yoj'].apply(np.log)\n",
        "test1[\"log_clm_freq\"] = test1['clm_freq'].apply(np.log)\n",
        "test1[\"log_home_val\"] = test1['home_val'].apply(np.log)\n",
        "test1[\"log_oldclaim\"] = test1['oldclaim'].apply(np.log)"
      ],
      "execution_count": 0,
      "outputs": []
    },
    {
      "metadata": {
        "id": "A__jl0axcpu-",
        "colab_type": "code",
        "colab": {
          "base_uri": "https://localhost:8080/",
          "height": 1615
        },
        "outputId": "923c21e5-a6a6-46fc-f8f2-be9c45683c4d"
      },
      "cell_type": "code",
      "source": [
        "# model 1: shell code - example for a simple model #\n",
        "logit1 = smf.logit('target_flag ~ education+mstatus+tif+kidsdriv+mvr_pts', data=train1)  \n",
        "result = logit1.fit()  \n",
        "print (result.summary2())\n",
        "print (result.conf_int())\n",
        "dir(logit1)"
      ],
      "execution_count": 248,
      "outputs": [
        {
          "output_type": "stream",
          "text": [
            "Optimization terminated successfully.\n",
            "         Current function value: 0.536924\n",
            "         Iterations 6\n",
            "                              Results: Logit\n",
            "===========================================================================\n",
            "Model:                   Logit               No. Iterations:      6.0000   \n",
            "Dependent Variable:      target_flag         Pseudo R-squared:    0.068    \n",
            "Date:                    2019-02-22 23:16    AIC:                 8232.9418\n",
            "No. Observations:        7650                BIC:                 8295.4239\n",
            "Df Model:                8                   Log-Likelihood:      -4107.5  \n",
            "Df Residuals:            7641                LL-Null:             -4405.7  \n",
            "Converged:               1.0000              Scale:               1.0000   \n",
            "---------------------------------------------------------------------------\n",
            "                            Coef.  Std.Err.    z     P>|z|   [0.025  0.975]\n",
            "---------------------------------------------------------------------------\n",
            "Intercept                  -1.6206   0.0982 -16.5107 0.0000 -1.8130 -1.4283\n",
            "education[T.Bachelors]     -0.4695   0.0850  -5.5236 0.0000 -0.6361 -0.3029\n",
            "education[T.Masters]       -0.5997   0.0928  -6.4636 0.0000 -0.7815 -0.4178\n",
            "education[T.PhD]           -0.7804   0.1229  -6.3474 0.0000 -1.0213 -0.5394\n",
            "education[T.z_High School]  0.1257   0.0808   1.5564 0.1196 -0.0326  0.2840\n",
            "mstatus[T.z_No]             0.6812   0.0547  12.4513 0.0000  0.5740  0.7884\n",
            "tif                        -0.0496   0.0069  -7.1732 0.0000 -0.0632 -0.0361\n",
            "kidsdriv                    0.3878   0.0490   7.9151 0.0000  0.2918  0.4838\n",
            "mvr_pts                     0.2329   0.0180  12.9402 0.0000  0.1976  0.2682\n",
            "===========================================================================\n",
            "\n",
            "                                   0         1\n",
            "Intercept                  -1.813028 -1.428259\n",
            "education[T.Bachelors]     -0.636064 -0.302889\n",
            "education[T.Masters]       -0.781521 -0.417838\n",
            "education[T.PhD]           -1.021320 -0.539398\n",
            "education[T.z_High School] -0.032603  0.284044\n",
            "mstatus[T.z_No]             0.573962  0.788414\n",
            "tif                        -0.063164 -0.036054\n",
            "kidsdriv                    0.291767  0.483823\n",
            "mvr_pts                     0.197645  0.268205\n"
          ],
          "name": "stdout"
        },
        {
          "output_type": "execute_result",
          "data": {
            "text/plain": [
              "['__class__',\n",
              " '__delattr__',\n",
              " '__dict__',\n",
              " '__dir__',\n",
              " '__doc__',\n",
              " '__eq__',\n",
              " '__format__',\n",
              " '__ge__',\n",
              " '__getattribute__',\n",
              " '__gt__',\n",
              " '__hash__',\n",
              " '__init__',\n",
              " '__init_subclass__',\n",
              " '__le__',\n",
              " '__lt__',\n",
              " '__module__',\n",
              " '__ne__',\n",
              " '__new__',\n",
              " '__reduce__',\n",
              " '__reduce_ex__',\n",
              " '__repr__',\n",
              " '__setattr__',\n",
              " '__sizeof__',\n",
              " '__str__',\n",
              " '__subclasshook__',\n",
              " '__weakref__',\n",
              " '_check_perfect_pred',\n",
              " '_data_attr',\n",
              " '_derivative_exog',\n",
              " '_derivative_predict',\n",
              " '_get_init_kwds',\n",
              " '_handle_data',\n",
              " '_init_keys',\n",
              " 'cdf',\n",
              " 'cov_params_func_l1',\n",
              " 'data',\n",
              " 'df_model',\n",
              " 'df_resid',\n",
              " 'endog',\n",
              " 'endog_names',\n",
              " 'exog',\n",
              " 'exog_names',\n",
              " 'fit',\n",
              " 'fit_regularized',\n",
              " 'formula',\n",
              " 'from_formula',\n",
              " 'hessian',\n",
              " 'information',\n",
              " 'initialize',\n",
              " 'jac',\n",
              " 'k_constant',\n",
              " 'loglike',\n",
              " 'loglikeobs',\n",
              " 'pdf',\n",
              " 'predict',\n",
              " 'raise_on_perfect_prediction',\n",
              " 'score',\n",
              " 'score_obs']"
            ]
          },
          "metadata": {
            "tags": []
          },
          "execution_count": 248
        }
      ]
    },
    {
      "metadata": {
        "id": "eU-URuBrcpvA",
        "colab_type": "code",
        "colab": {
          "base_uri": "https://localhost:8080/",
          "height": 2091
        },
        "outputId": "06883e2c-71de-4c6d-bd34-364f16db0fef"
      },
      "cell_type": "code",
      "source": [
        "# model 2 #\n",
        "logit1 = smf.logit('target_flag ~ education+job+car_type+mstatus+urbanicity+parent1+revoked+oldclaim+log_home_val+income+log_yoj+log_clm_freq+travtime+bluebook+tif+age+kidsdriv+mvr_pts', data=train1)  \n",
        "result = logit1.fit()  \n",
        "print (result.summary2())\n",
        "print (result.conf_int())\n",
        "dir(logit1)"
      ],
      "execution_count": 249,
      "outputs": [
        {
          "output_type": "stream",
          "text": [
            "Optimization terminated successfully.\n",
            "         Current function value: 0.458759\n",
            "         Iterations 7\n",
            "                                   Results: Logit\n",
            "====================================================================================\n",
            "Model:                      Logit                  No. Iterations:         7.0000   \n",
            "Dependent Variable:         target_flag            Pseudo R-squared:       0.203    \n",
            "Date:                       2019-02-22 23:16       AIC:                    7085.0068\n",
            "No. Observations:           7650                   BIC:                    7314.1080\n",
            "Df Model:                   32                     Log-Likelihood:         -3509.5  \n",
            "Df Residuals:               7617                   LL-Null:                -4405.7  \n",
            "Converged:                  1.0000                 Scale:                  1.0000   \n",
            "------------------------------------------------------------------------------------\n",
            "                                     Coef.  Std.Err.    z     P>|z|   [0.025  0.975]\n",
            "------------------------------------------------------------------------------------\n",
            "Intercept                            0.9086   1.4695   0.6183 0.5364 -1.9717  3.7888\n",
            "education[T.Bachelors]              -0.1269   0.1060  -1.1973 0.2312 -0.3346  0.0808\n",
            "education[T.Masters]                -0.0187   0.1619  -0.1157 0.9079 -0.3360  0.2985\n",
            "education[T.PhD]                     0.0360   0.2024   0.1778 0.8589 -0.3606  0.4326\n",
            "education[T.z_High School]           0.2911   0.0915   3.1814 0.0015  0.1118  0.4704\n",
            "job[T.Clerical]                      0.3128   0.1990   1.5716 0.1160 -0.0773  0.7028\n",
            "job[T.Doctor]                       -0.7381   0.2615  -2.8229 0.0048 -1.2507 -0.2256\n",
            "job[T.Home Maker]                    0.1513   0.2030   0.7452 0.4562 -0.2466  0.5491\n",
            "job[T.Lawyer]                       -0.2795   0.1662  -1.6820 0.0926 -0.6051  0.0462\n",
            "job[T.Manager]                      -0.8556   0.1733  -4.9368 0.0000 -1.1953 -0.5159\n",
            "job[T.Professional]                 -0.0616   0.1793  -0.3436 0.7312 -0.4131  0.2899\n",
            "job[T.Student]                       0.5934   0.2083   2.8486 0.0044  0.1851  1.0017\n",
            "job[T.z_Blue Collar]                 0.5672   0.1877   3.0215 0.0025  0.1993  0.9351\n",
            "car_type[T.Panel Truck]              1.1926   0.1439   8.2873 0.0000  0.9105  1.4746\n",
            "car_type[T.Pickup]                   0.8129   0.0967   8.4028 0.0000  0.6233  1.0025\n",
            "car_type[T.Sports Car]               0.9742   0.1095   8.8968 0.0000  0.7596  1.1888\n",
            "car_type[T.Van]                      0.9016   0.1199   7.5229 0.0000  0.6667  1.1365\n",
            "car_type[T.z_SUV]                    0.6990   0.0875   7.9852 0.0000  0.5274  0.8705\n",
            "mstatus[T.z_No]                      0.6801   0.0719   9.4559 0.0000  0.5391  0.8211\n",
            "urbanicity[T.z_Highly Rural/ Rural] -2.4894   0.1140 -21.8361 0.0000 -2.7128 -2.2659\n",
            "parent1[T.Yes]                       0.4379   0.1012   4.3269 0.0000  0.2395  0.6362\n",
            "revoked[T.Yes]                       0.8496   0.0936   9.0744 0.0000  0.6661  1.0331\n",
            "oldclaim                            -0.0000   0.0000  -2.1356 0.0327 -0.0000 -0.0000\n",
            "log_home_val                        -0.2981   0.1207  -2.4698 0.0135 -0.5347 -0.0615\n",
            "income                              -0.0000   0.0000  -1.4147 0.1572 -0.0000  0.0000\n",
            "log_yoj                              0.2353   0.1220   1.9284 0.0538 -0.0038  0.4744\n",
            "log_clm_freq                         0.0250   0.0922   0.2712 0.7862 -0.1557  0.2057\n",
            "travtime                             0.0158   0.0020   8.0480 0.0000  0.0120  0.0197\n",
            "bluebook                            -0.0000   0.0000  -5.5254 0.0000 -0.0000 -0.0000\n",
            "tif                                 -0.0566   0.0075  -7.5248 0.0000 -0.0713 -0.0418\n",
            "age                                 -0.0028   0.0038  -0.7312 0.4647 -0.0103  0.0047\n",
            "kidsdriv                             0.3987   0.0567   7.0347 0.0000  0.2876  0.5098\n",
            "mvr_pts                              0.1681   0.0194   8.6830 0.0000  0.1301  0.2060\n",
            "====================================================================================\n",
            "\n",
            "                                   0         1\n",
            "Intercept                  -1.971686  3.788821\n",
            "education[T.Bachelors]     -0.334604  0.080823\n",
            "education[T.Masters]       -0.335957  0.298492\n",
            "education[T.PhD]           -0.360648  0.432617\n",
            "education[T.z_High School]  0.111759  0.470422\n",
            "...                              ...       ...\n",
            "bluebook                   -0.000037 -0.000017\n",
            "tif                        -0.071328 -0.041849\n",
            "age                        -0.010251  0.004681\n",
            "kidsdriv                    0.287621  0.509790\n",
            "mvr_pts                     0.130122  0.205991\n",
            "\n",
            "[33 rows x 2 columns]\n"
          ],
          "name": "stdout"
        },
        {
          "output_type": "execute_result",
          "data": {
            "text/plain": [
              "['__class__',\n",
              " '__delattr__',\n",
              " '__dict__',\n",
              " '__dir__',\n",
              " '__doc__',\n",
              " '__eq__',\n",
              " '__format__',\n",
              " '__ge__',\n",
              " '__getattribute__',\n",
              " '__gt__',\n",
              " '__hash__',\n",
              " '__init__',\n",
              " '__init_subclass__',\n",
              " '__le__',\n",
              " '__lt__',\n",
              " '__module__',\n",
              " '__ne__',\n",
              " '__new__',\n",
              " '__reduce__',\n",
              " '__reduce_ex__',\n",
              " '__repr__',\n",
              " '__setattr__',\n",
              " '__sizeof__',\n",
              " '__str__',\n",
              " '__subclasshook__',\n",
              " '__weakref__',\n",
              " '_check_perfect_pred',\n",
              " '_data_attr',\n",
              " '_derivative_exog',\n",
              " '_derivative_predict',\n",
              " '_get_init_kwds',\n",
              " '_handle_data',\n",
              " '_init_keys',\n",
              " 'cdf',\n",
              " 'cov_params_func_l1',\n",
              " 'data',\n",
              " 'df_model',\n",
              " 'df_resid',\n",
              " 'endog',\n",
              " 'endog_names',\n",
              " 'exog',\n",
              " 'exog_names',\n",
              " 'fit',\n",
              " 'fit_regularized',\n",
              " 'formula',\n",
              " 'from_formula',\n",
              " 'hessian',\n",
              " 'information',\n",
              " 'initialize',\n",
              " 'jac',\n",
              " 'k_constant',\n",
              " 'loglike',\n",
              " 'loglikeobs',\n",
              " 'pdf',\n",
              " 'predict',\n",
              " 'raise_on_perfect_prediction',\n",
              " 'score',\n",
              " 'score_obs']"
            ]
          },
          "metadata": {
            "tags": []
          },
          "execution_count": 249
        }
      ]
    },
    {
      "metadata": {
        "scrolled": false,
        "id": "C77GXdU6cpvD",
        "colab_type": "code",
        "colab": {
          "base_uri": "https://localhost:8080/",
          "height": 2210
        },
        "outputId": "7c2d7ad2-a0d0-4249-c55d-501d16385e8a"
      },
      "cell_type": "code",
      "source": [
        "# ***model 3: winning model*** #\n",
        "logit1 = smf.logit('target_flag ~ kidsdriv+age+parent1+mstatus+education+job+travtime+car_use+bluebook+tif+car_type+oldclaim+clm_freq+revoked+mvr_pts+urbanicity+age25_56+middle_class+rich+smallclaim+avgclaim+risky+log_yoj+log_clm_freq+log_home_val', data=train1)  \n",
        "result = logit1.fit()  \n",
        "print (result.summary2())\n",
        "print (result.conf_int())\n",
        "dir(logit1)"
      ],
      "execution_count": 250,
      "outputs": [
        {
          "output_type": "stream",
          "text": [
            "Optimization terminated successfully.\n",
            "         Current function value: 0.444300\n",
            "         Iterations 7\n",
            "                                   Results: Logit\n",
            "====================================================================================\n",
            "Model:                      Logit                  No. Iterations:         7.0000   \n",
            "Dependent Variable:         target_flag            Pseudo R-squared:       0.229    \n",
            "Date:                       2019-02-22 23:16       AIC:                    6877.7916\n",
            "No. Observations:           7650                   BIC:                    7155.4900\n",
            "Df Model:                   39                     Log-Likelihood:         -3398.9  \n",
            "Df Residuals:               7610                   LL-Null:                -4405.7  \n",
            "Converged:                  1.0000                 Scale:                  1.0000   \n",
            "------------------------------------------------------------------------------------\n",
            "                                     Coef.  Std.Err.    z     P>|z|   [0.025  0.975]\n",
            "------------------------------------------------------------------------------------\n",
            "Intercept                            2.4150   1.5236   1.5851 0.1129 -0.5711  5.4011\n",
            "parent1[T.Yes]                       0.3132   0.1038   3.0178 0.0025  0.1098  0.5167\n",
            "mstatus[T.z_No]                      0.7173   0.0737   9.7305 0.0000  0.5728  0.8618\n",
            "education[T.Bachelors]              -0.4836   0.1149  -4.2088 0.0000 -0.7088 -0.2584\n",
            "education[T.Masters]                -0.3290   0.1692  -1.9451 0.0518 -0.6606  0.0025\n",
            "education[T.PhD]                    -0.3514   0.2054  -1.7107 0.0871 -0.7539  0.0512\n",
            "education[T.z_High School]          -0.0288   0.0991  -0.2911 0.7710 -0.2231  0.1654\n",
            "job[T.Clerical]                      0.5375   0.2035   2.6413 0.0083  0.1386  0.9363\n",
            "job[T.Doctor]                       -0.3150   0.2699  -1.1672 0.2431 -0.8440  0.2140\n",
            "job[T.Home Maker]                    0.4509   0.2092   2.1550 0.0312  0.0408  0.8610\n",
            "job[T.Lawyer]                        0.1128   0.1750   0.6446 0.5192 -0.2302  0.4558\n",
            "job[T.Manager]                      -0.6346   0.1781  -3.5623 0.0004 -0.9837 -0.2854\n",
            "job[T.Professional]                  0.1558   0.1842   0.8462 0.3975 -0.2051  0.5168\n",
            "job[T.Student]                       0.5032   0.2105   2.3905 0.0168  0.0906  0.9157\n",
            "job[T.z_Blue Collar]                 0.3523   0.1922   1.8336 0.0667 -0.0243  0.7290\n",
            "car_use[T.Private]                  -0.7726   0.0948  -8.1539 0.0000 -0.9583 -0.5869\n",
            "car_type[T.Panel Truck]              0.7074   0.1568   4.5107 0.0000  0.4000  1.0148\n",
            "car_type[T.Pickup]                   0.5644   0.1045   5.4027 0.0000  0.3597  0.7692\n",
            "car_type[T.Sports Car]               0.9157   0.1119   8.1824 0.0000  0.6964  1.1350\n",
            "car_type[T.Van]                      0.6762   0.1266   5.3425 0.0000  0.4281  0.9243\n",
            "car_type[T.z_SUV]                    0.6778   0.0893   7.5874 0.0000  0.5027  0.8528\n",
            "revoked[T.Yes]                       0.8794   0.0960   9.1561 0.0000  0.6912  1.0677\n",
            "urbanicity[T.z_Highly Rural/ Rural] -2.4664   0.1163 -21.2121 0.0000 -2.6943 -2.2385\n",
            "kidsdriv                             0.3720   0.0607   6.1279 0.0000  0.2530  0.4910\n",
            "age                                 -0.0230   0.0043  -5.3107 0.0000 -0.0315 -0.0145\n",
            "travtime                             0.0155   0.0020   7.7548 0.0000  0.0116  0.0194\n",
            "bluebook                            -0.0000   0.0000  -5.7164 0.0000 -0.0000 -0.0000\n",
            "tif                                 -0.0576   0.0077  -7.5054 0.0000 -0.0727 -0.0426\n",
            "oldclaim                            -0.0000   0.0000  -2.9366 0.0033 -0.0000 -0.0000\n",
            "clm_freq                             0.8801   0.1950   4.5134 0.0000  0.4979  1.2622\n",
            "mvr_pts                              0.1164   0.0202   5.7495 0.0000  0.0767  0.1560\n",
            "age25_56                            -0.8656   0.1059  -8.1718 0.0000 -1.0732 -0.6580\n",
            "middle_class                         0.2353   0.0829   2.8379 0.0045  0.0728  0.3978\n",
            "rich                                -0.3569   0.0962  -3.7108 0.0002 -0.5454 -0.1684\n",
            "smallclaim                          -0.1819   0.2105  -0.8641 0.3875 -0.5943  0.2306\n",
            "avgclaim                            -0.3655   0.1749  -2.0896 0.0367 -0.7083 -0.0227\n",
            "risky                                0.9119   0.2360   3.8645 0.0001  0.4494  1.3744\n",
            "log_yoj                              0.1717   0.1243   1.3817 0.1671 -0.0719  0.4153\n",
            "log_clm_freq                        -1.6247   0.3789  -4.2886 0.0000 -2.3673 -0.8822\n",
            "log_home_val                        -0.2363   0.1213  -1.9482 0.0514 -0.4740  0.0014\n",
            "====================================================================================\n",
            "\n",
            "                               0         1\n",
            "Intercept              -0.571102  5.401118\n",
            "parent1[T.Yes]          0.109796  0.516667\n",
            "mstatus[T.z_No]         0.572815  0.861777\n",
            "education[T.Bachelors] -0.708757 -0.258378\n",
            "education[T.Masters]   -0.660557  0.002513\n",
            "...                          ...       ...\n",
            "avgclaim               -0.708348 -0.022670\n",
            "risky                   0.449422  1.374429\n",
            "log_yoj                -0.071864  0.415291\n",
            "log_clm_freq           -2.367276 -0.882210\n",
            "log_home_val           -0.474044  0.001422\n",
            "\n",
            "[40 rows x 2 columns]\n"
          ],
          "name": "stdout"
        },
        {
          "output_type": "execute_result",
          "data": {
            "text/plain": [
              "['__class__',\n",
              " '__delattr__',\n",
              " '__dict__',\n",
              " '__dir__',\n",
              " '__doc__',\n",
              " '__eq__',\n",
              " '__format__',\n",
              " '__ge__',\n",
              " '__getattribute__',\n",
              " '__gt__',\n",
              " '__hash__',\n",
              " '__init__',\n",
              " '__init_subclass__',\n",
              " '__le__',\n",
              " '__lt__',\n",
              " '__module__',\n",
              " '__ne__',\n",
              " '__new__',\n",
              " '__reduce__',\n",
              " '__reduce_ex__',\n",
              " '__repr__',\n",
              " '__setattr__',\n",
              " '__sizeof__',\n",
              " '__str__',\n",
              " '__subclasshook__',\n",
              " '__weakref__',\n",
              " '_check_perfect_pred',\n",
              " '_data_attr',\n",
              " '_derivative_exog',\n",
              " '_derivative_predict',\n",
              " '_get_init_kwds',\n",
              " '_handle_data',\n",
              " '_init_keys',\n",
              " 'cdf',\n",
              " 'cov_params_func_l1',\n",
              " 'data',\n",
              " 'df_model',\n",
              " 'df_resid',\n",
              " 'endog',\n",
              " 'endog_names',\n",
              " 'exog',\n",
              " 'exog_names',\n",
              " 'fit',\n",
              " 'fit_regularized',\n",
              " 'formula',\n",
              " 'from_formula',\n",
              " 'hessian',\n",
              " 'information',\n",
              " 'initialize',\n",
              " 'jac',\n",
              " 'k_constant',\n",
              " 'loglike',\n",
              " 'loglikeobs',\n",
              " 'pdf',\n",
              " 'predict',\n",
              " 'raise_on_perfect_prediction',\n",
              " 'score',\n",
              " 'score_obs']"
            ]
          },
          "metadata": {
            "tags": []
          },
          "execution_count": 250
        }
      ]
    },
    {
      "metadata": {
        "id": "-07tE8fpcpvF",
        "colab_type": "code",
        "colab": {
          "base_uri": "https://localhost:8080/",
          "height": 255
        },
        "outputId": "6ec6e063-cef6-47aa-a59d-69bcc0d51204"
      },
      "cell_type": "code",
      "source": [
        "#use model 3 to predict for the test data\n",
        "preds = result.predict(test1)\n",
        "preds.head\n",
        "pred_out = test1.loc[:,['index','target_flag']]\n",
        "pred_out['p_target_flag'] = preds[: ]\n",
        "pred_out.head"
      ],
      "execution_count": 251,
      "outputs": [
        {
          "output_type": "execute_result",
          "data": {
            "text/plain": [
              "<bound method NDFrame.head of       index  target_flag  p_target_flag\n",
              "0         3          0.0       0.098801\n",
              "1         9          0.0       0.205666\n",
              "2        10          0.0       0.127432\n",
              "3        18          0.0       0.277829\n",
              "4        21          0.0       0.130231\n",
              "...     ...          ...            ...\n",
              "2136  10279          0.0       0.258694\n",
              "2137  10281          0.0       0.016563\n",
              "2138  10285          0.0       0.006249\n",
              "2139  10294          0.0       0.163172\n",
              "2140  10300          0.0       0.171983\n",
              "\n",
              "[2141 rows x 3 columns]>"
            ]
          },
          "metadata": {
            "tags": []
          },
          "execution_count": 251
        }
      ]
    },
    {
      "metadata": {
        "id": "02D0qmMKcpvH",
        "colab_type": "code",
        "colab": {
          "base_uri": "https://localhost:8080/",
          "height": 938
        },
        "outputId": "51660f3e-794e-4537-c7b2-05117998ad20"
      },
      "cell_type": "code",
      "source": [
        "# Crash data where target_amt > 0\n",
        "train1.shape\n",
        "train_crash = train1[train1['target_amt'] != 0]\n",
        "train_crash.shape\n",
        "train_crash.head"
      ],
      "execution_count": 252,
      "outputs": [
        {
          "output_type": "execute_result",
          "data": {
            "text/plain": [
              "<bound method NDFrame.head of       index  target_flag   target_amt  kidsdriv   age  homekids   yoj     income parent1   home_val mstatus  sex  \\\n",
              "5         7            1  2946.000000         0  34.0         1  12.0  125301.00     Yes  206898.00    z_No  z_F   \n",
              "7        11            1  4021.000000         1  37.0         2  12.0  107961.00      No  333680.00     Yes    M   \n",
              "8        12            1  2501.000000         0  34.0         0  10.0   62978.00      No  206898.00    z_No  z_F   \n",
              "10       14            1  6077.000000         0  53.0         0  14.0   77100.00      No  206898.00    z_No  z_F   \n",
              "13       17            1  1267.000000         0  53.0         0  11.0  130795.00      No  206898.00    z_No    M   \n",
              "...     ...          ...          ...       ...   ...       ...   ...        ...     ...        ...     ...  ...   \n",
              "8133  10263            1  3106.000000         0  47.0         0  13.0  214730.01      No  497746.00    z_No    M   \n",
              "8134  10265            1   471.115458         0  43.0         0  12.0   58328.00      No   68635.73     Yes  z_F   \n",
              "8137  10270            1  3135.000000         0  46.0         0  10.0   68360.00      No  237457.00    z_No    M   \n",
              "8146  10286            1  1815.205097         0  41.0         0  12.0   92185.00      No  289370.00     Yes    M   \n",
              "8148  10288            1  2967.000000         0  45.0         0  11.0   52966.00      No  206898.00    z_No    M   \n",
              "\n",
              "          education            job  travtime     car_use  bluebook   tif     car_type red_car      ...       clm_freq  \\\n",
              "5         Bachelors  z_Blue Collar      46.0  Commercial   17430.0   1.0   Sports Car      no      ...            2.0   \n",
              "7         Bachelors  z_Blue Collar      44.0  Commercial   16970.0   1.0          Van     yes      ...            1.0   \n",
              "8         Bachelors       Clerical      34.0     Private   11200.0   1.0        z_SUV      no      ...            2.0   \n",
              "10          Masters         Lawyer      15.0     Private   18300.0   1.0   Sports Car      no      ...            2.0   \n",
              "13              PhD              0      64.0  Commercial   28340.0   6.0  Panel Truck     yes      ...            2.0   \n",
              "...             ...            ...       ...         ...       ...   ...          ...     ...      ...            ...   \n",
              "8133            PhD              0      32.0  Commercial   34420.0  11.0  Panel Truck     yes      ...            2.0   \n",
              "8134            PhD     Home Maker      29.0     Private   24030.0   9.0      Minivan      no      ...            4.0   \n",
              "8137      Bachelors  z_Blue Collar      49.0  Commercial   12940.0   1.0      Minivan      no      ...            3.0   \n",
              "8146  z_High School   Professional      24.0     Private    1500.0  11.0      Minivan     yes      ...            2.0   \n",
              "8148  z_High School   Professional      16.0  Commercial   11300.0   6.0       Pickup     yes      ...            2.0   \n",
              "\n",
              "      revoked mvr_pts  car_age           urbanicity age25  age25_56  age56  miss_job  poor  middle_class  rich  \\\n",
              "5          No     3.0      7.0  Highly Urban/ Urban     0         1      0         0     0             1     1   \n",
              "7         Yes     8.0      7.0  Highly Urban/ Urban     0         1      0         0     0             1     1   \n",
              "8          No     3.0      1.0  Highly Urban/ Urban     0         1      0         0     0             1     0   \n",
              "10         No     3.0     11.0  Highly Urban/ Urban     0         1      0         0     0             1     0   \n",
              "13         No     3.0     10.0  Highly Urban/ Urban     0         1      0         1     0             1     1   \n",
              "...       ...     ...      ...                  ...   ...       ...    ...       ...   ...           ...   ...   \n",
              "8133      Yes     2.0     16.0  Highly Urban/ Urban     0         1      0         1     0             1     1   \n",
              "8134       No     3.0     14.0  Highly Urban/ Urban     0         1      0         0     0             1     0   \n",
              "8137       No     7.0     11.0  Highly Urban/ Urban     0         1      0         0     0             1     0   \n",
              "8146       No     3.0     10.0  Highly Urban/ Urban     0         1      0         0     0             1     1   \n",
              "8148      Yes     5.0      1.0  Highly Urban/ Urban     0         1      0         0     0             1     0   \n",
              "\n",
              "      smallclaim  avgclaim  bigclaim  risky   log_yoj  log_clm_freq  log_home_val  log_oldclaim  \n",
              "5              0         1         0      0  2.484907      0.693147     12.239981      8.708640  \n",
              "7              1         0         0      0  2.484907      0.000000     12.717938      7.772332  \n",
              "8              0         1         0      0  2.302585      0.693147     12.239981      8.708640  \n",
              "10             0         1         0      0  2.639057      0.693147     12.239981      8.708640  \n",
              "13             0         1         0      0  2.397895      0.693147     12.239981      8.708640  \n",
              "...          ...       ...       ...    ...       ...           ...           ...           ...  \n",
              "8133           0         1         0      0  2.564949      0.693147     13.117845      8.708640  \n",
              "8134           1         0         0      0  2.484907      1.386294     11.136569      8.017967  \n",
              "8137           0         1         0      0  2.302585      1.098612     12.377742      8.788746  \n",
              "8146           0         1         0      0  2.484907      0.693147     12.575461      8.708640  \n",
              "8148           0         0         1      0  2.397895      0.693147     12.239981      9.695171  \n",
              "\n",
              "[2010 rows x 41 columns]>"
            ]
          },
          "metadata": {
            "tags": []
          },
          "execution_count": 252
        }
      ]
    },
    {
      "metadata": {
        "id": "lipumve6cpvJ",
        "colab_type": "text"
      },
      "cell_type": "markdown",
      "source": [
        "#### OLS Regression to predict target_amt"
      ]
    },
    {
      "metadata": {
        "id": "nrCimMBDcpvJ",
        "colab_type": "code",
        "colab": {
          "base_uri": "https://localhost:8080/",
          "height": 493
        },
        "outputId": "33888476-7cee-4f50-9283-1ba8600ba23d"
      },
      "cell_type": "code",
      "source": [
        "reg_model = smf.ols(formula= 'target_amt ~ bluebook+car_age', data=train_crash).fit()\n",
        "print(reg_model.summary())"
      ],
      "execution_count": 253,
      "outputs": [
        {
          "output_type": "stream",
          "text": [
            "                            OLS Regression Results                            \n",
            "==============================================================================\n",
            "Dep. Variable:             target_amt   R-squared:                       0.016\n",
            "Model:                            OLS   Adj. R-squared:                  0.015\n",
            "Method:                 Least Squares   F-statistic:                     15.86\n",
            "Date:                Fri, 22 Feb 2019   Prob (F-statistic):           1.46e-07\n",
            "Time:                        23:16:42   Log-Likelihood:                -20868.\n",
            "No. Observations:                2010   AIC:                         4.174e+04\n",
            "Df Residuals:                    2007   BIC:                         4.176e+04\n",
            "Df Model:                           2                                         \n",
            "Covariance Type:            nonrobust                                         \n",
            "==============================================================================\n",
            "                 coef    std err          t      P>|t|      [0.025      0.975]\n",
            "------------------------------------------------------------------------------\n",
            "Intercept   4371.0307    395.212     11.060      0.000    3595.961    5146.100\n",
            "bluebook       0.1223      0.022      5.600      0.000       0.079       0.165\n",
            "car_age      -52.4897     32.215     -1.629      0.103    -115.669      10.689\n",
            "==============================================================================\n",
            "Omnibus:                     2198.247   Durbin-Watson:                   2.006\n",
            "Prob(Omnibus):                  0.000   Jarque-Bera (JB):           152534.366\n",
            "Skew:                           5.535   Prob(JB):                         0.00\n",
            "Kurtosis:                      44.216   Cond. No.                     3.72e+04\n",
            "==============================================================================\n",
            "\n",
            "Warnings:\n",
            "[1] Standard Errors assume that the covariance matrix of the errors is correctly specified.\n",
            "[2] The condition number is large, 3.72e+04. This might indicate that there are\n",
            "strong multicollinearity or other numerical problems.\n"
          ],
          "name": "stdout"
        }
      ]
    },
    {
      "metadata": {
        "id": "qjlAXt4_cpvL",
        "colab_type": "code",
        "colab": {
          "base_uri": "https://localhost:8080/",
          "height": 408
        },
        "outputId": "398f06b7-17d8-472a-cd79-8c622a6920c3"
      },
      "cell_type": "code",
      "source": [
        "# Used ols model to predict target_amt\n",
        "# Used the mean for target_amt 5727 to fillna\n",
        "small = train_crash.loc[:,['index','target_amt']]\n",
        "print(small.describe())\n",
        "pred_out['p_target_amt'] = (4371 + 0.1223*train1.bluebook - 52.4897*train1.car_age)\n",
        "pred_out['p_target_amt'] = pred_out['p_target_amt'].fillna(5727)\n",
        "pred_out.head"
      ],
      "execution_count": 254,
      "outputs": [
        {
          "output_type": "stream",
          "text": [
            "              index     target_amt\n",
            "count   2010.000000    2010.000000\n",
            "mean    5143.227363    5727.737978\n",
            "std     2964.951837    7872.406113\n",
            "min        7.000000      30.277280\n",
            "25%     2554.250000    2615.250000\n",
            "50%     5187.500000    4125.000000\n",
            "75%     7646.750000    5785.750000\n",
            "max    10288.000000  107586.136160\n"
          ],
          "name": "stdout"
        },
        {
          "output_type": "execute_result",
          "data": {
            "text/plain": [
              "<bound method NDFrame.head of       index  target_flag  p_target_flag  p_target_amt\n",
              "0         3          0.0       0.098801    5166.51440\n",
              "1         9          0.0       0.205666    6145.67230\n",
              "2        10          0.0       0.127432    4336.52600\n",
              "3        18          0.0       0.277829    5944.37380\n",
              "4        21          0.0       0.130231    5680.07510\n",
              "...     ...          ...            ...           ...\n",
              "2136  10279          0.0       0.258694    5514.47360\n",
              "2137  10281          0.0       0.016563    8407.86215\n",
              "2138  10285          0.0       0.006249    6653.28520\n",
              "2139  10294          0.0       0.163172    5327.95040\n",
              "2140  10300          0.0       0.171983    5483.40210\n",
              "\n",
              "[2141 rows x 4 columns]>"
            ]
          },
          "metadata": {
            "tags": []
          },
          "execution_count": 254
        }
      ]
    },
    {
      "metadata": {
        "id": "8otAFKVgcpvN",
        "colab_type": "code",
        "colab": {
          "base_uri": "https://localhost:8080/",
          "height": 255
        },
        "outputId": "54cc7766-95c5-47e9-aad8-87718772ac4b"
      },
      "cell_type": "code",
      "source": [
        "#watch your record count should be 2141\n",
        "your_model = pred_out.loc[:,['index','p_target_flag','p_target_amt']]  \n",
        "your_model.head \n",
        "#your_model.to_csv('/Users/rmorlows/Desktop/MSDS411/Assignment 02/hw02_predictions.csv')"
      ],
      "execution_count": 255,
      "outputs": [
        {
          "output_type": "execute_result",
          "data": {
            "text/plain": [
              "<bound method NDFrame.head of       index  p_target_flag  p_target_amt\n",
              "0         3       0.098801    5166.51440\n",
              "1         9       0.205666    6145.67230\n",
              "2        10       0.127432    4336.52600\n",
              "3        18       0.277829    5944.37380\n",
              "4        21       0.130231    5680.07510\n",
              "...     ...            ...           ...\n",
              "2136  10279       0.258694    5514.47360\n",
              "2137  10281       0.016563    8407.86215\n",
              "2138  10285       0.006249    6653.28520\n",
              "2139  10294       0.163172    5327.95040\n",
              "2140  10300       0.171983    5483.40210\n",
              "\n",
              "[2141 rows x 3 columns]>"
            ]
          },
          "metadata": {
            "tags": []
          },
          "execution_count": 255
        }
      ]
    },
    {
      "metadata": {
        "id": "ALYNEIgYcpvQ",
        "colab_type": "code",
        "colab": {
          "base_uri": "https://localhost:8080/",
          "height": 221
        },
        "outputId": "2c7063ac-ce8c-46f2-8b05-3e535a401047"
      },
      "cell_type": "code",
      "source": [
        "# Expected Loss is amount times probability\n",
        "p_expected_loss = (your_model.p_target_flag*your_model.p_target_amt)\n",
        "p_expected_loss"
      ],
      "execution_count": 256,
      "outputs": [
        {
          "output_type": "execute_result",
          "data": {
            "text/plain": [
              "0        510.456445\n",
              "1       1263.957340\n",
              "2        552.611438\n",
              "3       1651.521100\n",
              "4        739.723929\n",
              "           ...     \n",
              "2136    1426.559847\n",
              "2137     139.261895\n",
              "2138      41.573131\n",
              "2139     869.369899\n",
              "2140     943.050629\n",
              "Length: 2141, dtype: float64"
            ]
          },
          "metadata": {
            "tags": []
          },
          "execution_count": 256
        }
      ]
    },
    {
      "metadata": {
        "id": "ajWwNiLdcpvS",
        "colab_type": "text"
      },
      "cell_type": "markdown",
      "source": [
        "#### Shell Code Model AUC & ROC Curve"
      ]
    },
    {
      "metadata": {
        "id": "ycEhWJ71cpvT",
        "colab_type": "code",
        "colab": {}
      },
      "cell_type": "code",
      "source": [
        "#Some additional code for a reduced model to create the ROC curve and calculate AUC\n",
        "import pandas as pd\n",
        "import statsmodels as sm\n",
        "from sklearn import linear_model, metrics"
      ],
      "execution_count": 0,
      "outputs": []
    },
    {
      "metadata": {
        "id": "00pwXcEfcpvV",
        "colab_type": "code",
        "colab": {}
      },
      "cell_type": "code",
      "source": [
        "train1['constant'] = 1\n",
        "X = train1[['tif','kidsdriv','mvr_pts','constant']].copy()\n",
        "y = train1[['target_flag']].copy()"
      ],
      "execution_count": 0,
      "outputs": []
    },
    {
      "metadata": {
        "id": "IWKtpbxscpvY",
        "colab_type": "code",
        "colab": {
          "base_uri": "https://localhost:8080/",
          "height": 324
        },
        "outputId": "38657731-bc45-4c47-d998-ed20b876ba0c"
      },
      "cell_type": "code",
      "source": [
        "#  a different look logistic regression model\n",
        "logit = sm.api.Logit(train1['target_flag'], train1[['tif','kidsdriv','mvr_pts','constant']])\n",
        "result = logit.fit()\n",
        "result.summary2()"
      ],
      "execution_count": 259,
      "outputs": [
        {
          "output_type": "stream",
          "text": [
            "Optimization terminated successfully.\n",
            "         Current function value: 0.556002\n",
            "         Iterations 5\n"
          ],
          "name": "stdout"
        },
        {
          "output_type": "execute_result",
          "data": {
            "text/html": [
              "<table class=\"simpletable\">\n",
              "<tr>\n",
              "        <td>Model:</td>              <td>Logit</td>       <td>No. Iterations:</td>   <td>5.0000</td>  \n",
              "</tr>\n",
              "<tr>\n",
              "  <td>Dependent Variable:</td>    <td>target_flag</td>   <td>Pseudo R-squared:</td>   <td>0.035</td>  \n",
              "</tr>\n",
              "<tr>\n",
              "         <td>Date:</td>        <td>2019-02-22 23:16</td>       <td>AIC:</td>        <td>8514.8300</td>\n",
              "</tr>\n",
              "<tr>\n",
              "   <td>No. Observations:</td>        <td>7650</td>             <td>BIC:</td>        <td>8542.5998</td>\n",
              "</tr>\n",
              "<tr>\n",
              "       <td>Df Model:</td>              <td>3</td>         <td>Log-Likelihood:</td>   <td>-4253.4</td> \n",
              "</tr>\n",
              "<tr>\n",
              "     <td>Df Residuals:</td>          <td>7646</td>           <td>LL-Null:</td>       <td>-4405.7</td> \n",
              "</tr>\n",
              "<tr>\n",
              "      <td>Converged:</td>           <td>1.0000</td>           <td>Scale:</td>        <td>1.0000</td>  \n",
              "</tr>\n",
              "</table>\n",
              "<table class=\"simpletable\">\n",
              "<tr>\n",
              "      <td></td>      <th>Coef.</th>  <th>Std.Err.</th>     <th>z</th>     <th>P>|z|</th> <th>[0.025</th>  <th>0.975]</th> \n",
              "</tr>\n",
              "<tr>\n",
              "  <th>tif</th>      <td>-0.0470</td>  <td>0.0068</td>   <td>-6.9523</td> <td>0.0000</td> <td>-0.0603</td> <td>-0.0338</td>\n",
              "</tr>\n",
              "<tr>\n",
              "  <th>kidsdriv</th> <td>0.3815</td>   <td>0.0479</td>   <td>7.9605</td>  <td>0.0000</td> <td>0.2875</td>  <td>0.4754</td> \n",
              "</tr>\n",
              "<tr>\n",
              "  <th>mvr_pts</th>  <td>0.2394</td>   <td>0.0177</td>   <td>13.5358</td> <td>0.0000</td> <td>0.2047</td>  <td>0.2740</td> \n",
              "</tr>\n",
              "<tr>\n",
              "  <th>constant</th> <td>-1.6142</td>  <td>0.0719</td>  <td>-22.4415</td> <td>0.0000</td> <td>-1.7552</td> <td>-1.4732</td>\n",
              "</tr>\n",
              "</table>"
            ],
            "text/plain": [
              "<class 'statsmodels.iolib.summary2.Summary'>\n",
              "\"\"\"\n",
              "                         Results: Logit\n",
              "================================================================\n",
              "Model:              Logit            No. Iterations:   5.0000   \n",
              "Dependent Variable: target_flag      Pseudo R-squared: 0.035    \n",
              "Date:               2019-02-22 23:16 AIC:              8514.8300\n",
              "No. Observations:   7650             BIC:              8542.5998\n",
              "Df Model:           3                Log-Likelihood:   -4253.4  \n",
              "Df Residuals:       7646             LL-Null:          -4405.7  \n",
              "Converged:          1.0000           Scale:            1.0000   \n",
              "-----------------------------------------------------------------\n",
              "             Coef.   Std.Err.     z      P>|z|    [0.025   0.975]\n",
              "-----------------------------------------------------------------\n",
              "tif         -0.0470    0.0068   -6.9523  0.0000  -0.0603  -0.0338\n",
              "kidsdriv     0.3815    0.0479    7.9605  0.0000   0.2875   0.4754\n",
              "mvr_pts      0.2394    0.0177   13.5358  0.0000   0.2047   0.2740\n",
              "constant    -1.6142    0.0719  -22.4415  0.0000  -1.7552  -1.4732\n",
              "================================================================\n",
              "\n",
              "\"\"\""
            ]
          },
          "metadata": {
            "tags": []
          },
          "execution_count": 259
        }
      ]
    },
    {
      "metadata": {
        "id": "4g_BOVevcpvb",
        "colab_type": "code",
        "colab": {
          "base_uri": "https://localhost:8080/",
          "height": 71
        },
        "outputId": "3c56e5cc-07a6-4b95-e9fe-046fb3002f08"
      },
      "cell_type": "code",
      "source": [
        "# sklearn model  to calculate AUC / create ROC curve\n",
        "logit = linear_model.LogisticRegression()\n",
        "model = logit.fit(train1[['tif','kidsdriv','mvr_pts','constant']], train1['target_flag'])"
      ],
      "execution_count": 260,
      "outputs": [
        {
          "output_type": "stream",
          "text": [
            "/usr/local/lib/python3.6/dist-packages/sklearn/linear_model/logistic.py:433: FutureWarning: Default solver will be changed to 'lbfgs' in 0.22. Specify a solver to silence this warning.\n",
            "  FutureWarning)\n"
          ],
          "name": "stderr"
        }
      ]
    },
    {
      "metadata": {
        "id": "H4u10TKycpvc",
        "colab_type": "code",
        "colab": {}
      },
      "cell_type": "code",
      "source": [
        "# calculate the predicted probabilities\n",
        "preds = model.predict_proba(train1[['tif','kidsdriv','mvr_pts','constant']])[:,1]\n",
        "fpr, tpr, _ = metrics.roc_curve(train1['target_flag'], preds)"
      ],
      "execution_count": 0,
      "outputs": []
    },
    {
      "metadata": {
        "id": "E5TgLFbecpve",
        "colab_type": "code",
        "colab": {
          "base_uri": "https://localhost:8080/",
          "height": 34
        },
        "outputId": "8ec8f466-69b5-4820-fae3-db8195fbc332"
      },
      "cell_type": "code",
      "source": [
        "# calculate AUC and create ROC curve\n",
        "roc_auc = metrics.auc(fpr,tpr)\n",
        "print(roc_auc)"
      ],
      "execution_count": 262,
      "outputs": [
        {
          "output_type": "stream",
          "text": [
            "0.6123453212660103\n"
          ],
          "name": "stdout"
        }
      ]
    },
    {
      "metadata": {
        "id": "jOzEtrBlcpvg",
        "colab_type": "code",
        "colab": {
          "base_uri": "https://localhost:8080/",
          "height": 294
        },
        "outputId": "7a48c95b-17b8-4853-a162-57ec12e421b8"
      },
      "cell_type": "code",
      "source": [
        "plt.figure()\n",
        "lw = 2\n",
        "plt.plot(fpr, tpr, color='darkorange',\n",
        "         lw=lw, label='ROC curve (area = %0.2f)' % roc_auc)\n",
        "plt.plot([0, 1], [0, 1], color='navy', lw=lw, linestyle='--')\n",
        "plt.xlim([0.0, 1.0])\n",
        "plt.ylim([0.0, 1.05])\n",
        "plt.xlabel('False Positive Rate')\n",
        "plt.ylabel('True Positive Rate')\n",
        "plt.title('ROC Curve')\n",
        "plt.legend(loc=\"lower right\")\n",
        "plt.show()"
      ],
      "execution_count": 263,
      "outputs": [
        {
          "output_type": "display_data",
          "data": {
            "image/png": "[encoded data removed]",
            "text/plain": [
              "<Figure size 432x288 with 1 Axes>"
            ]
          },
          "metadata": {
            "tags": []
          }
        }
      ]
    },
    {
      "metadata": {
        "id": "xiRPDeHLcpvk",
        "colab_type": "code",
        "colab": {
          "base_uri": "https://localhost:8080/",
          "height": 255
        },
        "outputId": "4eabe5f8-c758-4e7a-80f7-1891d84afc6d"
      },
      "cell_type": "code",
      "source": [
        "#Finally for the Hosmer-Lemeshow Lack of Fit\n",
        "pred_train = result.predict(X)\n",
        "pred_train.head\n",
        "pred_out = train1.loc[:,['index','target_flag']]\n",
        "pred_out['p_target_flag'] = pred_train[: ]\n",
        "pred_out.head \n",
        "#sort by pred\n",
        "result1 = pred_out.sort_values(by=('p_target_flag'))\n",
        "print (result1)"
      ],
      "execution_count": 264,
      "outputs": [
        {
          "output_type": "stream",
          "text": [
            "      index  target_flag  p_target_flag\n",
            "4466   5630            0       0.102072\n",
            "338     422            1       0.102072\n",
            "7401   9353            0       0.102072\n",
            "1174   1477            0       0.102072\n",
            "7847   9908            0       0.102072\n",
            "...     ...          ...            ...\n",
            "4133   5202            1       0.743577\n",
            "5821   7350            1       0.778505\n",
            "7819   9869            1       0.801879\n",
            "5464   6910            1       0.801879\n",
            "3772   4747            0       0.855639\n",
            "\n",
            "[7650 rows x 3 columns]\n"
          ],
          "name": "stdout"
        }
      ]
    },
    {
      "metadata": {
        "id": "CfbhAstlcpvo",
        "colab_type": "code",
        "colab": {
          "base_uri": "https://localhost:8080/",
          "height": 918
        },
        "outputId": "8469c09f-fbb5-4d91-d802-4a17f6dd951a"
      },
      "cell_type": "code",
      "source": [
        "#rank by decile\n",
        "result2 = pd.qcut(result1['p_target_flag'], 10, labels=[1,2,3,4,5,6,7,8,9,10])\n",
        "print (result2)\n",
        "d1 = {'g' : result2}\n",
        "df3 = pd.DataFrame(data=d1)\n",
        "print (df3)\n",
        "result3 = pd.concat([result1, df3], axis=1, join_axes=[result1.index])\n",
        "print (result3)\n",
        "\n",
        "sums = result3.groupby('g')\n",
        "sums1 = sums.aggregate(np.sum)\n",
        "print (sums1)"
      ],
      "execution_count": 265,
      "outputs": [
        {
          "output_type": "stream",
          "text": [
            "4466     1\n",
            "338      1\n",
            "7401     1\n",
            "1174     1\n",
            "7847     1\n",
            "        ..\n",
            "4133    10\n",
            "5821    10\n",
            "7819    10\n",
            "5464    10\n",
            "3772    10\n",
            "Name: p_target_flag, Length: 7650, dtype: category\n",
            "Categories (10, int64): [1 < 2 < 3 < 4 ... 7 < 8 < 9 < 10]\n",
            "       g\n",
            "4466   1\n",
            "338    1\n",
            "7401   1\n",
            "1174   1\n",
            "7847   1\n",
            "...   ..\n",
            "4133  10\n",
            "5821  10\n",
            "7819  10\n",
            "5464  10\n",
            "3772  10\n",
            "\n",
            "[7650 rows x 1 columns]\n",
            "      index  target_flag  p_target_flag   g\n",
            "4466   5630            0       0.102072   1\n",
            "338     422            1       0.102072   1\n",
            "7401   9353            0       0.102072   1\n",
            "1174   1477            0       0.102072   1\n",
            "7847   9908            0       0.102072   1\n",
            "...     ...          ...            ...  ..\n",
            "4133   5202            1       0.743577  10\n",
            "5821   7350            1       0.778505  10\n",
            "7819   9869            1       0.801879  10\n",
            "5464   6910            1       0.801879  10\n",
            "3772   4747            0       0.855639  10\n",
            "\n",
            "[7650 rows x 4 columns]\n",
            "      index  target_flag  p_target_flag\n",
            "g                                      \n",
            "1   4423301          172     135.003164\n",
            "2   3332327          152     122.596567\n",
            "3   4126501          140     157.584423\n",
            "4   3843366          177     176.044974\n",
            "5   3682115          155     172.556032\n",
            "6   4031603          164     200.083709\n",
            "7   6409657          296     344.400523\n",
            "8   1587898           98      85.064867\n",
            "9   4158005          297     277.846320\n",
            "10  3713539          359     338.819421\n"
          ],
          "name": "stdout"
        }
      ]
    },
    {
      "metadata": {
        "scrolled": true,
        "id": "gQpGlvoecpvr",
        "colab_type": "code",
        "colab": {
          "base_uri": "https://localhost:8080/",
          "height": 284
        },
        "outputId": "331cd8f7-f353-4b0f-eb56-ff504c7e5f18"
      },
      "cell_type": "code",
      "source": [
        "#plot target_flag vs pred\n",
        "def scat(dataframe,var1,var2,var3):     \n",
        "    dataframe[var2].plot()     \n",
        "    dataframe[var3].plot()     \n",
        "    plt.title('Hosmer-Lemeshow lack of fit trng data')     \n",
        "    plt.xlabel(var1)     \n",
        "    plt.ylabel('Sum by Group')\n",
        "scat(sums1, 'g', 'target_flag', 'p_target_flag')\n",
        "#save as jpeg to place in your report\n",
        "# plt.savefig('/Users/HLlackoffit1.jpeg')"
      ],
      "execution_count": 266,
      "outputs": [
        {
          "output_type": "display_data",
          "data": {
            "image/png": "[encoded data removed]",
            "text/plain": [
              "<Figure size 432x288 with 1 Axes>"
            ]
          },
          "metadata": {
            "tags": []
          }
        }
      ]
    },
    {
      "metadata": {
        "id": "CwGar_Oncpvx",
        "colab_type": "code",
        "colab": {}
      },
      "cell_type": "code",
      "source": [
        "# one-hot encode categorical variables into dummy values for train data\n",
        "train1 = pd.get_dummies(train1, columns=[\"car_type\",\"car_use\",\"education\",\"job\",\"mstatus\",\"parent1\",\"red_car\",\"revoked\",\"sex\",\"urbanicity\"])"
      ],
      "execution_count": 0,
      "outputs": []
    },
    {
      "metadata": {
        "id": "C2Qw5DQFcpvz",
        "colab_type": "code",
        "colab": {}
      },
      "cell_type": "code",
      "source": [
        "# one-hot encode categorical variables into dummy values for test data\n",
        "test1 = pd.get_dummies(test1, columns=[\"car_type\",\"car_use\",\"education\",\"job\",\"mstatus\",\"parent1\",\"red_car\",\"revoked\",\"sex\",\"urbanicity\"])"
      ],
      "execution_count": 0,
      "outputs": []
    },
    {
      "metadata": {
        "id": "kzshg8Mfcpv0",
        "colab_type": "text"
      },
      "cell_type": "markdown",
      "source": [
        "#### Model 2 AUC & ROC Curve"
      ]
    },
    {
      "metadata": {
        "id": "y8JOrq6Fcpv0",
        "colab_type": "code",
        "colab": {}
      },
      "cell_type": "code",
      "source": [
        "X = train1[['education_<High School','education_Bachelors','education_Masters','education_PhD','education_z_High School','job_Clerical','job_Doctor','job_Home Maker','job_Lawyer','job_Manager','job_Professional','job_Student','job_z_Blue Collar','mstatus_Yes','mstatus_z_No','parent1_No','parent1_Yes','car_type_Minivan','car_type_Panel Truck','car_type_Pickup','car_type_Sports Car','car_type_Van','car_type_z_SUV','car_use_Commercial','car_use_Private','urbanicity_Highly Urban/ Urban','urbanicity_z_Highly Rural/ Rural','oldclaim','log_home_val','income','log_yoj','log_clm_freq','travtime','bluebook','tif','age','kidsdriv','mvr_pts','constant']].copy()\n",
        "y = train1[['target_flag']].copy()"
      ],
      "execution_count": 0,
      "outputs": []
    },
    {
      "metadata": {
        "id": "1RkpRUdicpv2",
        "colab_type": "code",
        "colab": {
          "base_uri": "https://localhost:8080/",
          "height": 68
        },
        "outputId": "fb46a77d-d79a-4995-80d6-dd249bc0f172"
      },
      "cell_type": "code",
      "source": [
        "#  a different look logistic regression model\n",
        "logit = sm.api.Logit(train1['target_flag'], train1[['education_<High School','education_Bachelors','education_Masters','education_PhD','education_z_High School','job_Clerical','job_Doctor','job_Home Maker','job_Lawyer','job_Manager','job_Professional','job_Student','job_z_Blue Collar','mstatus_Yes','mstatus_z_No','parent1_No','parent1_Yes','car_type_Minivan','car_type_Panel Truck','car_type_Pickup','car_type_Sports Car','car_type_Van','car_type_z_SUV','car_use_Commercial','car_use_Private','urbanicity_Highly Urban/ Urban','urbanicity_z_Highly Rural/ Rural','oldclaim','log_home_val','income','log_yoj','log_clm_freq','travtime','bluebook','tif','age','kidsdriv','mvr_pts','constant']])\n",
        "result = logit.fit()"
      ],
      "execution_count": 270,
      "outputs": [
        {
          "output_type": "stream",
          "text": [
            "Optimization terminated successfully.\n",
            "         Current function value: 0.459186\n",
            "         Iterations 14\n"
          ],
          "name": "stdout"
        }
      ]
    },
    {
      "metadata": {
        "id": "r1FPNe_Icpv5",
        "colab_type": "code",
        "colab": {
          "base_uri": "https://localhost:8080/",
          "height": 71
        },
        "outputId": "ae3530b7-f187-4818-8874-08d39a9888f9"
      },
      "cell_type": "code",
      "source": [
        "# sklearn model  to calculate AUC / create ROC curve\n",
        "logit = linear_model.LogisticRegression()\n",
        "model = logit.fit(train1[['education_<High School','education_Bachelors','education_Masters','education_PhD','education_z_High School','job_Clerical','job_Doctor','job_Home Maker','job_Lawyer','job_Manager','job_Professional','job_Student','job_z_Blue Collar','mstatus_Yes','mstatus_z_No','parent1_No','parent1_Yes','car_type_Minivan','car_type_Panel Truck','car_type_Pickup','car_type_Sports Car','car_type_Van','car_type_z_SUV','car_use_Commercial','car_use_Private','urbanicity_Highly Urban/ Urban','urbanicity_z_Highly Rural/ Rural','oldclaim','log_home_val','income','log_yoj','log_clm_freq','travtime','bluebook','tif','age','kidsdriv','mvr_pts','constant']], train1['target_flag'])"
      ],
      "execution_count": 271,
      "outputs": [
        {
          "output_type": "stream",
          "text": [
            "/usr/local/lib/python3.6/dist-packages/sklearn/linear_model/logistic.py:433: FutureWarning: Default solver will be changed to 'lbfgs' in 0.22. Specify a solver to silence this warning.\n",
            "  FutureWarning)\n"
          ],
          "name": "stderr"
        }
      ]
    },
    {
      "metadata": {
        "id": "3UB6syxEcpwC",
        "colab_type": "code",
        "colab": {}
      },
      "cell_type": "code",
      "source": [
        "# calculate the predicted probabilities\n",
        "preds = model.predict_proba(train1[['education_<High School','education_Bachelors','education_Masters','education_PhD','education_z_High School','job_Clerical','job_Doctor','job_Home Maker','job_Lawyer','job_Manager','job_Professional','job_Student','job_z_Blue Collar','mstatus_Yes','mstatus_z_No','parent1_No','parent1_Yes','car_type_Minivan','car_type_Panel Truck','car_type_Pickup','car_type_Sports Car','car_type_Van','car_type_z_SUV','car_use_Commercial','car_use_Private','urbanicity_Highly Urban/ Urban','urbanicity_z_Highly Rural/ Rural','oldclaim','log_home_val','income','log_yoj','log_clm_freq','travtime','bluebook','tif','age','kidsdriv','mvr_pts','constant']])[:,1]\n",
        "fpr, tpr, _ = metrics.roc_curve(train1['target_flag'], preds)"
      ],
      "execution_count": 0,
      "outputs": []
    },
    {
      "metadata": {
        "id": "o_-TVTdicpwE",
        "colab_type": "code",
        "colab": {
          "base_uri": "https://localhost:8080/",
          "height": 34
        },
        "outputId": "a4aa3f65-0935-4f65-e49a-4ed056699440"
      },
      "cell_type": "code",
      "source": [
        "# calculate AUC and create ROC curve\n",
        "roc_auc = metrics.auc(fpr,tpr)\n",
        "print(roc_auc)"
      ],
      "execution_count": 273,
      "outputs": [
        {
          "output_type": "stream",
          "text": [
            "0.624906143043647\n"
          ],
          "name": "stdout"
        }
      ]
    },
    {
      "metadata": {
        "id": "K5z2lHVJcpwG",
        "colab_type": "code",
        "colab": {
          "base_uri": "https://localhost:8080/",
          "height": 294
        },
        "outputId": "bd5b583f-5dd2-4e4d-95d1-d2fffd2c44a6"
      },
      "cell_type": "code",
      "source": [
        "plt.figure()\n",
        "lw = 2\n",
        "plt.plot(fpr, tpr, color='darkorange',\n",
        "         lw=lw, label='ROC curve (area = %0.2f)' % roc_auc)\n",
        "plt.plot([0, 1], [0, 1], color='navy', lw=lw, linestyle='--')\n",
        "plt.xlim([0.0, 1.0])\n",
        "plt.ylim([0.0, 1.05])\n",
        "plt.xlabel('False Positive Rate')\n",
        "plt.ylabel('True Positive Rate')\n",
        "plt.title('ROC Curve')\n",
        "plt.legend(loc=\"lower right\")\n",
        "plt.show()"
      ],
      "execution_count": 274,
      "outputs": [
        {
          "output_type": "display_data",
          "data": {
            "image/png": "[encoded data removed]",
            "text/plain": [
              "<Figure size 432x288 with 1 Axes>"
            ]
          },
          "metadata": {
            "tags": []
          }
        }
      ]
    },
    {
      "metadata": {
        "id": "T79lRB5tcpwJ",
        "colab_type": "code",
        "colab": {}
      },
      "cell_type": "code",
      "source": [
        "#Finally for the Hosmer-Lemeshow Lack of Fit\n",
        "pred_train = result.predict(X)\n",
        "pred_train.head\n",
        "pred_out = train1.loc[:,['index','target_flag']]\n",
        "pred_out['p_target_flag'] = pred_train[: ]\n",
        "pred_out.head \n",
        "#sort by pred\n",
        "result1 = pred_out.sort_values(by=('p_target_flag'))"
      ],
      "execution_count": 0,
      "outputs": []
    },
    {
      "metadata": {
        "id": "xXYjf8k6cpwK",
        "colab_type": "code",
        "colab": {}
      },
      "cell_type": "code",
      "source": [
        "#rank by decile\n",
        "result2 = pd.qcut(result1['p_target_flag'], 10, labels=[1,2,3,4,5,6,7,8,9,10])\n",
        "#print (result2)\n",
        "d1 = {'g' : result2}\n",
        "df3 = pd.DataFrame(data=d1)\n",
        "#print (df3)\n",
        "result3 = pd.concat([result1, df3], axis=1, join_axes=[result1.index])\n",
        "#print (result3)\n",
        "\n",
        "sums = result3.groupby('g')\n",
        "sums1 = sums.aggregate(np.sum)"
      ],
      "execution_count": 0,
      "outputs": []
    },
    {
      "metadata": {
        "id": "0_lv_x1ScpwL",
        "colab_type": "code",
        "colab": {
          "base_uri": "https://localhost:8080/",
          "height": 284
        },
        "outputId": "195a3315-4e58-4f43-ee33-c4b114ca9110"
      },
      "cell_type": "code",
      "source": [
        "#plot target_flag vs pred\n",
        "def scat(dataframe,var1,var2,var3):     \n",
        "    dataframe[var2].plot()     \n",
        "    dataframe[var3].plot()     \n",
        "    plt.title('Hosmer-Lemeshow lack of fit trng data')     \n",
        "    plt.xlabel(var1)     \n",
        "    plt.ylabel('Sum by Group')\n",
        "scat(sums1, 'g', 'target_flag', 'p_target_flag')\n",
        "#save as jpeg to place in your report\n",
        "# plt.savefig('/Users/HLlackoffit2.jpeg')"
      ],
      "execution_count": 277,
      "outputs": [
        {
          "output_type": "display_data",
          "data": {
            "image/png": "[encoded data removed]",
            "text/plain": [
              "<Figure size 432x288 with 1 Axes>"
            ]
          },
          "metadata": {
            "tags": []
          }
        }
      ]
    },
    {
      "metadata": {
        "id": "v0XjLJ19cpwM",
        "colab_type": "text"
      },
      "cell_type": "markdown",
      "source": [
        "#### Model 3 AUC & ROC Curve"
      ]
    },
    {
      "metadata": {
        "id": "mkzXrXRKcpwN",
        "colab_type": "code",
        "colab": {}
      },
      "cell_type": "code",
      "source": [
        "X = train1[['education_<High School','education_Bachelors','education_Masters','education_PhD','education_z_High School','job_Clerical','job_Doctor','job_Home Maker','job_Lawyer','job_Manager','job_Professional','job_Student','job_z_Blue Collar','mstatus_Yes','mstatus_z_No','parent1_No','parent1_Yes','car_type_Minivan','car_type_Panel Truck','car_type_Pickup','car_type_Sports Car','car_type_Van','car_type_z_SUV','car_use_Commercial','car_use_Private','urbanicity_Highly Urban/ Urban','urbanicity_z_Highly Rural/ Rural','kidsdriv','age','travtime','bluebook','tif','oldclaim','clm_freq','mvr_pts','age25_56','middle_class','rich','smallclaim','avgclaim','risky','log_yoj','log_clm_freq','log_home_val','constant']].copy()\n",
        "y = train1[['target_flag']].copy()"
      ],
      "execution_count": 0,
      "outputs": []
    },
    {
      "metadata": {
        "id": "bBMhUKgicpwP",
        "colab_type": "code",
        "colab": {
          "base_uri": "https://localhost:8080/",
          "height": 122
        },
        "outputId": "e7c02a6d-f641-4491-8539-893b187b9c9c"
      },
      "cell_type": "code",
      "source": [
        "#  a different look logistic regression model\n",
        "logit = sm.api.Logit(train1['target_flag'], train1[['education_<High School','education_Bachelors','education_Masters','education_PhD','education_z_High School','job_Clerical','job_Doctor','job_Home Maker','job_Lawyer','job_Manager','job_Professional','job_Student','job_z_Blue Collar','mstatus_Yes','mstatus_z_No','parent1_No','parent1_Yes','car_type_Minivan','car_type_Panel Truck','car_type_Pickup','car_type_Sports Car','car_type_Van','car_type_z_SUV','car_use_Commercial','car_use_Private','urbanicity_Highly Urban/ Urban','urbanicity_z_Highly Rural/ Rural','kidsdriv','age','travtime','bluebook','tif','oldclaim','clm_freq','mvr_pts','age25_56','middle_class','rich','smallclaim','avgclaim','risky','log_yoj','log_clm_freq','log_home_val','constant']])\n",
        "result = logit.fit()"
      ],
      "execution_count": 279,
      "outputs": [
        {
          "output_type": "stream",
          "text": [
            "Warning: Maximum number of iterations has been exceeded.\n",
            "         Current function value: 0.449700\n",
            "         Iterations: 35\n"
          ],
          "name": "stdout"
        },
        {
          "output_type": "stream",
          "text": [
            "/usr/local/lib/python3.6/dist-packages/statsmodels/base/model.py:496: ConvergenceWarning: Maximum Likelihood optimization failed to converge. Check mle_retvals\n",
            "  \"Check mle_retvals\", ConvergenceWarning)\n"
          ],
          "name": "stderr"
        }
      ]
    },
    {
      "metadata": {
        "id": "SirBWNv4cpwQ",
        "colab_type": "code",
        "colab": {
          "base_uri": "https://localhost:8080/",
          "height": 71
        },
        "outputId": "8d9cfbbd-f6ff-4841-e3e1-5c06e340b333"
      },
      "cell_type": "code",
      "source": [
        "# sklearn model  to calculate AUC / create ROC curve\n",
        "logit = linear_model.LogisticRegression()\n",
        "model = logit.fit(train1[['education_<High School','education_Bachelors','education_Masters','education_PhD','education_z_High School','job_Clerical','job_Doctor','job_Home Maker','job_Lawyer','job_Manager','job_Professional','job_Student','job_z_Blue Collar','mstatus_Yes','mstatus_z_No','parent1_No','parent1_Yes','car_type_Minivan','car_type_Panel Truck','car_type_Pickup','car_type_Sports Car','car_type_Van','car_type_z_SUV','car_use_Commercial','car_use_Private','urbanicity_Highly Urban/ Urban','urbanicity_z_Highly Rural/ Rural','kidsdriv','age','travtime','bluebook','tif','oldclaim','clm_freq','mvr_pts','age25_56','middle_class','rich','smallclaim','avgclaim','risky','log_yoj','log_clm_freq','log_home_val','constant']], train1['target_flag'])"
      ],
      "execution_count": 280,
      "outputs": [
        {
          "output_type": "stream",
          "text": [
            "/usr/local/lib/python3.6/dist-packages/sklearn/linear_model/logistic.py:433: FutureWarning: Default solver will be changed to 'lbfgs' in 0.22. Specify a solver to silence this warning.\n",
            "  FutureWarning)\n"
          ],
          "name": "stderr"
        }
      ]
    },
    {
      "metadata": {
        "id": "fZDRvEbWcpwR",
        "colab_type": "code",
        "colab": {}
      },
      "cell_type": "code",
      "source": [
        "# calculate the predicted probabilities\n",
        "preds = model.predict_proba(train1[['education_<High School','education_Bachelors','education_Masters','education_PhD','education_z_High School','job_Clerical','job_Doctor','job_Home Maker','job_Lawyer','job_Manager','job_Professional','job_Student','job_z_Blue Collar','mstatus_Yes','mstatus_z_No','parent1_No','parent1_Yes','car_type_Minivan','car_type_Panel Truck','car_type_Pickup','car_type_Sports Car','car_type_Van','car_type_z_SUV','car_use_Commercial','car_use_Private','urbanicity_Highly Urban/ Urban','urbanicity_z_Highly Rural/ Rural','kidsdriv','age','travtime','bluebook','tif','oldclaim','clm_freq','mvr_pts','age25_56','middle_class','rich','smallclaim','avgclaim','risky','log_yoj','log_clm_freq','log_home_val','constant']])[:,1]\n",
        "fpr, tpr, _ = metrics.roc_curve(train1['target_flag'], preds)"
      ],
      "execution_count": 0,
      "outputs": []
    },
    {
      "metadata": {
        "id": "bJKeKIOvcpwS",
        "colab_type": "code",
        "colab": {
          "base_uri": "https://localhost:8080/",
          "height": 34
        },
        "outputId": "28ccc37b-5079-4812-bb34-ab053059e883"
      },
      "cell_type": "code",
      "source": [
        "# calculate AUC and create ROC curve\n",
        "roc_auc = metrics.auc(fpr,tpr)\n",
        "print(roc_auc)"
      ],
      "execution_count": 282,
      "outputs": [
        {
          "output_type": "stream",
          "text": [
            "0.7587032920503863\n"
          ],
          "name": "stdout"
        }
      ]
    },
    {
      "metadata": {
        "id": "cz7xc592cpwT",
        "colab_type": "code",
        "colab": {
          "base_uri": "https://localhost:8080/",
          "height": 294
        },
        "outputId": "803d927c-3f04-43d7-8745-c173b4b87c2d"
      },
      "cell_type": "code",
      "source": [
        "plt.figure()\n",
        "lw = 2\n",
        "plt.plot(fpr, tpr, color='darkorange',\n",
        "         lw=lw, label='ROC curve (area = %0.2f)' % roc_auc)\n",
        "plt.plot([0, 1], [0, 1], color='navy', lw=lw, linestyle='--')\n",
        "plt.xlim([0.0, 1.0])\n",
        "plt.ylim([0.0, 1.05])\n",
        "plt.xlabel('False Positive Rate')\n",
        "plt.ylabel('True Positive Rate')\n",
        "plt.title('ROC Curve')\n",
        "plt.legend(loc=\"lower right\")\n",
        "plt.show()"
      ],
      "execution_count": 283,
      "outputs": [
        {
          "output_type": "display_data",
          "data": {
            "image/png": "[encoded data removed]",
            "text/plain": [
              "<Figure size 432x288 with 1 Axes>"
            ]
          },
          "metadata": {
            "tags": []
          }
        }
      ]
    },
    {
      "metadata": {
        "id": "Ej9wZKUVcpwV",
        "colab_type": "code",
        "colab": {}
      },
      "cell_type": "code",
      "source": [
        "#Finally for the Hosmer-Lemeshow Lack of Fit\n",
        "pred_train = result.predict(X)\n",
        "pred_train.head\n",
        "pred_out = train1.loc[:,['index','target_flag']]\n",
        "pred_out['p_target_flag'] = pred_train[: ]\n",
        "pred_out.head \n",
        "#sort by pred\n",
        "result1 = pred_out.sort_values(by=('p_target_flag'))"
      ],
      "execution_count": 0,
      "outputs": []
    },
    {
      "metadata": {
        "id": "PNzovl2HcpwW",
        "colab_type": "code",
        "colab": {}
      },
      "cell_type": "code",
      "source": [
        "#rank by decile\n",
        "result2 = pd.qcut(result1['p_target_flag'], 10, labels=[1,2,3,4,5,6,7,8,9,10])\n",
        "#print (result2)\n",
        "d1 = {'g' : result2}\n",
        "df3 = pd.DataFrame(data=d1)\n",
        "#print (df3)\n",
        "result3 = pd.concat([result1, df3], axis=1, join_axes=[result1.index])\n",
        "#print (result3)\n",
        "\n",
        "sums = result3.groupby('g')\n",
        "sums1 = sums.aggregate(np.sum)"
      ],
      "execution_count": 0,
      "outputs": []
    },
    {
      "metadata": {
        "scrolled": false,
        "id": "bnq5RhHAcpwY",
        "colab_type": "code",
        "colab": {
          "base_uri": "https://localhost:8080/",
          "height": 284
        },
        "outputId": "b912c68d-356e-4dc0-b8df-69d15ff0b935"
      },
      "cell_type": "code",
      "source": [
        "#plot target_flag vs pred\n",
        "def scat(dataframe,var1,var2,var3):     \n",
        "    dataframe[var2].plot()     \n",
        "    dataframe[var3].plot()     \n",
        "    plt.title('Hosmer-Lemeshow lack of fit trng data')     \n",
        "    plt.xlabel(var1)     \n",
        "    plt.ylabel('Sum by Group')\n",
        "scat(sums1, 'g', 'target_flag', 'p_target_flag')\n",
        "#save as jpeg to place in your report\n",
        "# plt.savefig('Users/HLlackoffit3.jpeg')"
      ],
      "execution_count": 286,
      "outputs": [
        {
          "output_type": "display_data",
          "data": {
            "image/png": "[encoded data removed]",
            "text/plain": [
              "<Figure size 432x288 with 1 Axes>"
            ]
          },
          "metadata": {
            "tags": []
          }
        }
      ]
    },
    {
      "metadata": {
        "id": "cqC_2iWzdvrx",
        "colab_type": "text"
      },
      "cell_type": "markdown",
      "source": [
        "#### Conclusion"
      ]
    },
    {
      "metadata": {
        "id": "iHm1ncBcdv3D",
        "colab_type": "text"
      },
      "cell_type": "markdown",
      "source": [
        "Several models were developed and tested to predict the probability of a car crash from insurance data. The best logistic regression model was derived using a model with select log transformed variables (yoj, claim frequency, home value), binned variables (age, old claim, income), new variable (risky), and the remaining variables with low p-values as predictors of the target flag. Other models were tested that resulted in similar Psuedo R-squared values, but the model selected had a low AIC, high AUC, and low RMSE. Although there were no problems detected with the various logistic regression models, the selected model did include variables with coefficients that should be examined. It may be advantageous to consult an insurance expert before including or eliminating these variables from the model. Additionally, through EDA we dispelled some urban myths, uncovered skewed variables, and binned variables to improve model performance. This insurance dataset may potentially be leveraged for a probability-severity model, but is beyond the scope of this report."
      ]
    }
  ]
}